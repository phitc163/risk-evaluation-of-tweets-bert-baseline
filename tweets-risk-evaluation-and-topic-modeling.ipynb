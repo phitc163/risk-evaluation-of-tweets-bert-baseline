{
 "cells": [
  {
   "cell_type": "code",
   "execution_count": 1,
   "id": "a46500ed",
   "metadata": {
    "_cell_guid": "b1076dfc-b9ad-4769-8c92-a6c4dae69d19",
    "_uuid": "8f2839f25d086af736a60e9eeb907d3b93b6e0e5",
    "execution": {
     "iopub.execute_input": "2023-11-01T11:43:47.393878Z",
     "iopub.status.busy": "2023-11-01T11:43:47.393446Z",
     "iopub.status.idle": "2023-11-01T11:44:04.960503Z",
     "shell.execute_reply": "2023-11-01T11:44:04.959589Z"
    },
    "papermill": {
     "duration": 17.584988,
     "end_time": "2023-11-01T11:44:04.963078",
     "exception": false,
     "start_time": "2023-11-01T11:43:47.378090",
     "status": "completed"
    },
    "tags": []
   },
   "outputs": [
    {
     "name": "stderr",
     "output_type": "stream",
     "text": [
      "/opt/conda/lib/python3.10/site-packages/scipy/__init__.py:146: UserWarning: A NumPy version >=1.16.5 and <1.23.0 is required for this version of SciPy (detected version 1.23.5\n",
      "  warnings.warn(f\"A NumPy version >={np_minversion} and <{np_maxversion}\"\n"
     ]
    }
   ],
   "source": [
    "import numpy as np\n",
    "import pandas as pd\n",
    "from transformers import BertTokenizer\n",
    "from transformers import BertForSequenceClassification\n",
    "import torch\n",
    "from torch.utils.data import DataLoader\n",
    "from torch.optim import AdamW\n",
    "from tqdm import tqdm\n",
    "import matplotlib.pyplot as plt\n",
    "import seaborn as sns\n",
    "from copy import deepcopy\n",
    "from sklearn.metrics import f1_score, roc_curve, auc\n",
    "from sklearn.preprocessing import StandardScaler\n",
    "from sklearn.model_selection import train_test_split\n",
    "from sklearn.feature_extraction.text import TfidfVectorizer\n",
    "import re\n",
    "import string\n",
    "from textblob import TextBlob\n",
    "import warnings\n",
    "\n"
   ]
  },
  {
   "cell_type": "code",
   "execution_count": 2,
   "id": "f4a487f0",
   "metadata": {
    "execution": {
     "iopub.execute_input": "2023-11-01T11:44:04.989999Z",
     "iopub.status.busy": "2023-11-01T11:44:04.989583Z",
     "iopub.status.idle": "2023-11-01T11:44:05.095959Z",
     "shell.execute_reply": "2023-11-01T11:44:05.095215Z"
    },
    "papermill": {
     "duration": 0.122048,
     "end_time": "2023-11-01T11:44:05.097996",
     "exception": false,
     "start_time": "2023-11-01T11:44:04.975948",
     "status": "completed"
    },
    "tags": []
   },
   "outputs": [],
   "source": [
    "warnings.simplefilter('ignore')\n",
    "scaler = torch.cuda.amp.GradScaler() \n",
    "device = torch.device('cuda' if torch.cuda.is_available() else 'cpu') "
   ]
  },
  {
   "cell_type": "markdown",
   "id": "e25af636",
   "metadata": {
    "papermill": {
     "duration": 0.010947,
     "end_time": "2023-11-01T11:44:05.120453",
     "exception": false,
     "start_time": "2023-11-01T11:44:05.109506",
     "status": "completed"
    },
    "tags": []
   },
   "source": [
    "## Data Loading & Exploratory Data Analysis (EDA)"
   ]
  },
  {
   "cell_type": "code",
   "execution_count": 3,
   "id": "6f7007fd",
   "metadata": {
    "execution": {
     "iopub.execute_input": "2023-11-01T11:44:05.144095Z",
     "iopub.status.busy": "2023-11-01T11:44:05.143791Z",
     "iopub.status.idle": "2023-11-01T11:44:05.263670Z",
     "shell.execute_reply": "2023-11-01T11:44:05.262732Z"
    },
    "papermill": {
     "duration": 0.133974,
     "end_time": "2023-11-01T11:44:05.265797",
     "exception": false,
     "start_time": "2023-11-01T11:44:05.131823",
     "status": "completed"
    },
    "tags": []
   },
   "outputs": [
    {
     "data": {
      "text/html": [
       "<div>\n",
       "<style scoped>\n",
       "    .dataframe tbody tr th:only-of-type {\n",
       "        vertical-align: middle;\n",
       "    }\n",
       "\n",
       "    .dataframe tbody tr th {\n",
       "        vertical-align: top;\n",
       "    }\n",
       "\n",
       "    .dataframe thead th {\n",
       "        text-align: right;\n",
       "    }\n",
       "</style>\n",
       "<table border=\"1\" class=\"dataframe\">\n",
       "  <thead>\n",
       "    <tr style=\"text-align: right;\">\n",
       "      <th></th>\n",
       "      <th>Tweets</th>\n",
       "      <th>Risk Analysis</th>\n",
       "    </tr>\n",
       "  </thead>\n",
       "  <tbody>\n",
       "    <tr>\n",
       "      <th>0</th>\n",
       "      <td>interested in a job in epping nh this could be...</td>\n",
       "      <td>0.0</td>\n",
       "    </tr>\n",
       "    <tr>\n",
       "      <th>1</th>\n",
       "      <td>community violence cv is a public health epide...</td>\n",
       "      <td>1.0</td>\n",
       "    </tr>\n",
       "    <tr>\n",
       "      <th>2</th>\n",
       "      <td>cvs took a step that shows it s gearing up to ...</td>\n",
       "      <td>0.0</td>\n",
       "    </tr>\n",
       "    <tr>\n",
       "      <th>3</th>\n",
       "      <td>this job is now open at cvs health in henderso...</td>\n",
       "      <td>0.0</td>\n",
       "    </tr>\n",
       "    <tr>\n",
       "      <th>4</th>\n",
       "      <td>at cvs health we are committed to empowering m...</td>\n",
       "      <td>0.0</td>\n",
       "    </tr>\n",
       "  </tbody>\n",
       "</table>\n",
       "</div>"
      ],
      "text/plain": [
       "                                              Tweets  Risk Analysis\n",
       "0  interested in a job in epping nh this could be...            0.0\n",
       "1  community violence cv is a public health epide...            1.0\n",
       "2  cvs took a step that shows it s gearing up to ...            0.0\n",
       "3  this job is now open at cvs health in henderso...            0.0\n",
       "4  at cvs health we are committed to empowering m...            0.0"
      ]
     },
     "execution_count": 3,
     "metadata": {},
     "output_type": "execute_result"
    }
   ],
   "source": [
    "# Load the datasets\n",
    "train_data = pd.read_csv('/kaggle/input/world-championship-2023-risk-evaluation/train_data.csv')\n",
    "test_data = pd.read_csv('/kaggle/input/world-championship-2023-risk-evaluation/test_data_post.csv')\n",
    "# Verifying the first few rows of the datasets\n",
    "train_data.head()"
   ]
  },
  {
   "cell_type": "code",
   "execution_count": 4,
   "id": "62839fd2",
   "metadata": {
    "execution": {
     "iopub.execute_input": "2023-11-01T11:44:05.290105Z",
     "iopub.status.busy": "2023-11-01T11:44:05.289746Z",
     "iopub.status.idle": "2023-11-01T11:44:05.298099Z",
     "shell.execute_reply": "2023-11-01T11:44:05.297055Z"
    },
    "papermill": {
     "duration": 0.022736,
     "end_time": "2023-11-01T11:44:05.300257",
     "exception": false,
     "start_time": "2023-11-01T11:44:05.277521",
     "status": "completed"
    },
    "tags": []
   },
   "outputs": [
    {
     "data": {
      "text/html": [
       "<div>\n",
       "<style scoped>\n",
       "    .dataframe tbody tr th:only-of-type {\n",
       "        vertical-align: middle;\n",
       "    }\n",
       "\n",
       "    .dataframe tbody tr th {\n",
       "        vertical-align: top;\n",
       "    }\n",
       "\n",
       "    .dataframe thead th {\n",
       "        text-align: right;\n",
       "    }\n",
       "</style>\n",
       "<table border=\"1\" class=\"dataframe\">\n",
       "  <thead>\n",
       "    <tr style=\"text-align: right;\">\n",
       "      <th></th>\n",
       "      <th>ID</th>\n",
       "      <th>Tweets</th>\n",
       "    </tr>\n",
       "  </thead>\n",
       "  <tbody>\n",
       "    <tr>\n",
       "      <th>0</th>\n",
       "      <td>1</td>\n",
       "      <td>knowing what s right for you and your body isn...</td>\n",
       "    </tr>\n",
       "    <tr>\n",
       "      <th>1</th>\n",
       "      <td>2</td>\n",
       "      <td>looks like we need to boycott walmart exxonmob...</td>\n",
       "    </tr>\n",
       "    <tr>\n",
       "      <th>2</th>\n",
       "      <td>3</td>\n",
       "      <td>#cvshealth says of its employees are racially ...</td>\n",
       "    </tr>\n",
       "    <tr>\n",
       "      <th>3</th>\n",
       "      <td>4</td>\n",
       "      <td>be a part of cvshealth on our journey to trans...</td>\n",
       "    </tr>\n",
       "    <tr>\n",
       "      <th>4</th>\n",
       "      <td>5</td>\n",
       "      <td>juddlegum ford walmart delta deloitte nrcc lib...</td>\n",
       "    </tr>\n",
       "  </tbody>\n",
       "</table>\n",
       "</div>"
      ],
      "text/plain": [
       "   ID                                             Tweets\n",
       "0   1  knowing what s right for you and your body isn...\n",
       "1   2  looks like we need to boycott walmart exxonmob...\n",
       "2   3  #cvshealth says of its employees are racially ...\n",
       "3   4  be a part of cvshealth on our journey to trans...\n",
       "4   5  juddlegum ford walmart delta deloitte nrcc lib..."
      ]
     },
     "execution_count": 4,
     "metadata": {},
     "output_type": "execute_result"
    }
   ],
   "source": [
    "test_data.head()"
   ]
  },
  {
   "cell_type": "code",
   "execution_count": 5,
   "id": "cfc84006",
   "metadata": {
    "execution": {
     "iopub.execute_input": "2023-11-01T11:44:05.324980Z",
     "iopub.status.busy": "2023-11-01T11:44:05.324684Z",
     "iopub.status.idle": "2023-11-01T11:44:05.355349Z",
     "shell.execute_reply": "2023-11-01T11:44:05.354337Z"
    },
    "papermill": {
     "duration": 0.045133,
     "end_time": "2023-11-01T11:44:05.357304",
     "exception": false,
     "start_time": "2023-11-01T11:44:05.312171",
     "status": "completed"
    },
    "tags": []
   },
   "outputs": [
    {
     "name": "stdout",
     "output_type": "stream",
     "text": [
      "<class 'pandas.core.frame.DataFrame'>\n",
      "RangeIndex: 20204 entries, 0 to 20203\n",
      "Data columns (total 2 columns):\n",
      " #   Column         Non-Null Count  Dtype  \n",
      "---  ------         --------------  -----  \n",
      " 0   Tweets         20204 non-null  object \n",
      " 1   Risk Analysis  20204 non-null  float64\n",
      "dtypes: float64(1), object(1)\n",
      "memory usage: 315.8+ KB\n"
     ]
    }
   ],
   "source": [
    "# Display basic information about the training data\n",
    "train_data.info()"
   ]
  },
  {
   "cell_type": "code",
   "execution_count": 6,
   "id": "05d80a0f",
   "metadata": {
    "execution": {
     "iopub.execute_input": "2023-11-01T11:44:05.384704Z",
     "iopub.status.busy": "2023-11-01T11:44:05.383863Z",
     "iopub.status.idle": "2023-11-01T11:44:05.394717Z",
     "shell.execute_reply": "2023-11-01T11:44:05.393746Z"
    },
    "papermill": {
     "duration": 0.026902,
     "end_time": "2023-11-01T11:44:05.396827",
     "exception": false,
     "start_time": "2023-11-01T11:44:05.369925",
     "status": "completed"
    },
    "tags": []
   },
   "outputs": [
    {
     "name": "stdout",
     "output_type": "stream",
     "text": [
      "<class 'pandas.core.frame.DataFrame'>\n",
      "RangeIndex: 5052 entries, 0 to 5051\n",
      "Data columns (total 2 columns):\n",
      " #   Column  Non-Null Count  Dtype \n",
      "---  ------  --------------  ----- \n",
      " 0   ID      5052 non-null   int64 \n",
      " 1   Tweets  5052 non-null   object\n",
      "dtypes: int64(1), object(1)\n",
      "memory usage: 79.1+ KB\n"
     ]
    }
   ],
   "source": [
    "# Display basic information about the test data\n",
    "test_data.info()"
   ]
  },
  {
   "cell_type": "markdown",
   "id": "100674dc",
   "metadata": {
    "papermill": {
     "duration": 0.012035,
     "end_time": "2023-11-01T11:44:05.420847",
     "exception": false,
     "start_time": "2023-11-01T11:44:05.408812",
     "status": "completed"
    },
    "tags": []
   },
   "source": [
    "## Distribution & statistical analysis"
   ]
  },
  {
   "cell_type": "code",
   "execution_count": 7,
   "id": "c3b18c0a",
   "metadata": {
    "execution": {
     "iopub.execute_input": "2023-11-01T11:44:05.446285Z",
     "iopub.status.busy": "2023-11-01T11:44:05.445996Z",
     "iopub.status.idle": "2023-11-01T11:44:05.663767Z",
     "shell.execute_reply": "2023-11-01T11:44:05.662763Z"
    },
    "papermill": {
     "duration": 0.232256,
     "end_time": "2023-11-01T11:44:05.665761",
     "exception": false,
     "start_time": "2023-11-01T11:44:05.433505",
     "status": "completed"
    },
    "tags": []
   },
   "outputs": [
    {
     "data": {
      "image/png": "[encoded data removed]",
      "text/plain": [
       "<Figure size 800x500 with 1 Axes>"
      ]
     },
     "metadata": {},
     "output_type": "display_data"
    }
   ],
   "source": [
    "# Distribution of the 'Risk Analysis' label\n",
    "plt.figure(figsize=(8, 5))\n",
    "sns.countplot(data=train_data, x='Risk Analysis')\n",
    "plt.title(\"Distribution of Risk Analysis Label\")\n",
    "plt.show()"
   ]
  },
  {
   "cell_type": "code",
   "execution_count": 8,
   "id": "885ef79c",
   "metadata": {
    "execution": {
     "iopub.execute_input": "2023-11-01T11:44:05.692921Z",
     "iopub.status.busy": "2023-11-01T11:44:05.692620Z",
     "iopub.status.idle": "2023-11-01T11:44:07.111746Z",
     "shell.execute_reply": "2023-11-01T11:44:07.110727Z"
    },
    "papermill": {
     "duration": 1.435102,
     "end_time": "2023-11-01T11:44:07.114069",
     "exception": false,
     "start_time": "2023-11-01T11:44:05.678967",
     "status": "completed"
    },
    "tags": []
   },
   "outputs": [
    {
     "data": {
      "image/png": "[encoded data removed]",
      "text/plain": [
       "<Figure size 1400x500 with 2 Axes>"
      ]
     },
     "metadata": {},
     "output_type": "display_data"
    }
   ],
   "source": [
    "# Derive features from the text for EDA\n",
    "train_data['tweet_length'] = train_data['Tweets'].apply(len)\n",
    "train_data['num_words'] = train_data['Tweets'].apply(lambda x: len(x.split()))\n",
    "\n",
    "# Distribution of tweet lengths\n",
    "plt.figure(figsize=(14, 5))\n",
    "\n",
    "# Tweet length distribution\n",
    "plt.subplot(1, 2, 1)\n",
    "sns.histplot(train_data['tweet_length'], kde=True)\n",
    "plt.title(\"Distribution of Tweet Lengths\")\n",
    "\n",
    "# Number of words distribution\n",
    "plt.subplot(1, 2, 2)\n",
    "sns.histplot(train_data['num_words'], kde=True)\n",
    "plt.title(\"Distribution of Number of Words in Tweets\")\n",
    "\n",
    "plt.tight_layout()\n",
    "plt.show()\n"
   ]
  },
  {
   "cell_type": "code",
   "execution_count": 9,
   "id": "0633b7eb",
   "metadata": {
    "execution": {
     "iopub.execute_input": "2023-11-01T11:44:07.141223Z",
     "iopub.status.busy": "2023-11-01T11:44:07.140932Z",
     "iopub.status.idle": "2023-11-01T11:44:07.974003Z",
     "shell.execute_reply": "2023-11-01T11:44:07.973141Z"
    },
    "papermill": {
     "duration": 0.849495,
     "end_time": "2023-11-01T11:44:07.976632",
     "exception": false,
     "start_time": "2023-11-01T11:44:07.127137",
     "status": "completed"
    },
    "tags": []
   },
   "outputs": [
    {
     "data": {
      "image/png": "[encoded data removed]",
      "text/plain": [
       "<Figure size 1400x500 with 2 Axes>"
      ]
     },
     "metadata": {},
     "output_type": "display_data"
    }
   ],
   "source": [
    "# Derive features from the text for EDA\n",
    "test_data['tweet_length'] = test_data['Tweets'].apply(len)\n",
    "test_data['num_words'] = test_data['Tweets'].apply(lambda x: len(x.split()))\n",
    "\n",
    "# Distribution of tweet lengths\n",
    "plt.figure(figsize=(14, 5))\n",
    "\n",
    "# Tweet length distribution\n",
    "plt.subplot(1, 2, 1)\n",
    "sns.histplot(test_data['tweet_length'], kde=True)\n",
    "plt.title(\"Distribution of Tweet Lengths\")\n",
    "\n",
    "# Number of words distribution\n",
    "plt.subplot(1, 2, 2)\n",
    "sns.histplot(test_data['num_words'], kde=True)\n",
    "plt.title(\"Distribution of Number of Words in Tweets\")\n",
    "\n",
    "plt.tight_layout()\n",
    "plt.show()\n"
   ]
  },
  {
   "cell_type": "markdown",
   "id": "3704c436",
   "metadata": {
    "papermill": {
     "duration": 0.01413,
     "end_time": "2023-11-01T11:44:08.005545",
     "exception": false,
     "start_time": "2023-11-01T11:44:07.991415",
     "status": "completed"
    },
    "tags": []
   },
   "source": [
    "## EDA findings"
   ]
  },
  {
   "cell_type": "markdown",
   "id": "60f18506",
   "metadata": {
    "papermill": {
     "duration": 0.01329,
     "end_time": "2023-11-01T11:44:08.032602",
     "exception": false,
     "start_time": "2023-11-01T11:44:08.019312",
     "status": "completed"
    },
    "tags": []
   },
   "source": [
    "Based on the exploratory visualizations, the following conclusions can be drawn:\n",
    "\n",
    "**Distribution of Tweet Lengths:**\n",
    "\n",
    "* The average length of a tweet is between 0 and 300 characters. \n",
    "* Only a small number of tweets exceed 300 characters, but these are relatively rare.\n",
    "\n",
    "**Distribution of Number of Words in Tweets:**\n",
    "\n",
    "* Tweets typically contain 0 to 60 words.\n",
    "* After 60 words, the distribution sharply declines, which indicates that tweets that are very lengthy are less prevalent.\n",
    "\n",
    "We can use these distributions to determine the maximum sequence length for tokenization when preprocessing text for model training."
   ]
  },
  {
   "cell_type": "markdown",
   "id": "20cd3c33",
   "metadata": {
    "papermill": {
     "duration": 0.015067,
     "end_time": "2023-11-01T11:44:08.061206",
     "exception": false,
     "start_time": "2023-11-01T11:44:08.046139",
     "status": "completed"
    },
    "tags": []
   },
   "source": [
    "## **Text Preprocessing phase**\n",
    "\n",
    "We'll:\n",
    "\n",
    "* Convert the text to lowercase.\n",
    "* Remove URLs, mentions, and other unnecessary characters.\n",
    "* Tokenize the text (this step will be integrated into the data loading process for the model)."
   ]
  },
  {
   "cell_type": "markdown",
   "id": "13a921f7",
   "metadata": {
    "papermill": {
     "duration": 0.013431,
     "end_time": "2023-11-01T11:44:08.129885",
     "exception": false,
     "start_time": "2023-11-01T11:44:08.116454",
     "status": "completed"
    },
    "tags": []
   },
   "source": []
  },
  {
   "cell_type": "code",
   "execution_count": 10,
   "id": "ea1627db",
   "metadata": {
    "execution": {
     "iopub.execute_input": "2023-11-01T11:44:08.159389Z",
     "iopub.status.busy": "2023-11-01T11:44:08.158637Z",
     "iopub.status.idle": "2023-11-01T11:44:08.758170Z",
     "shell.execute_reply": "2023-11-01T11:44:08.757175Z"
    },
    "papermill": {
     "duration": 0.616508,
     "end_time": "2023-11-01T11:44:08.760524",
     "exception": false,
     "start_time": "2023-11-01T11:44:08.144016",
     "status": "completed"
    },
    "tags": []
   },
   "outputs": [
    {
     "data": {
      "text/html": [
       "<div>\n",
       "<style scoped>\n",
       "    .dataframe tbody tr th:only-of-type {\n",
       "        vertical-align: middle;\n",
       "    }\n",
       "\n",
       "    .dataframe tbody tr th {\n",
       "        vertical-align: top;\n",
       "    }\n",
       "\n",
       "    .dataframe thead th {\n",
       "        text-align: right;\n",
       "    }\n",
       "</style>\n",
       "<table border=\"1\" class=\"dataframe\">\n",
       "  <thead>\n",
       "    <tr style=\"text-align: right;\">\n",
       "      <th></th>\n",
       "      <th>Tweets</th>\n",
       "      <th>cleaned_tweets</th>\n",
       "    </tr>\n",
       "  </thead>\n",
       "  <tbody>\n",
       "    <tr>\n",
       "      <th>15236</th>\n",
       "      <td>cvs health corp cvs surprised the market with ...</td>\n",
       "      <td>cvs health corp cvs surprised the market with ...</td>\n",
       "    </tr>\n",
       "    <tr>\n",
       "      <th>3131</th>\n",
       "      <td>at cvs health we strive to take an active supp...</td>\n",
       "      <td>at cvs health we strive to take an active supp...</td>\n",
       "    </tr>\n",
       "    <tr>\n",
       "      <th>14191</th>\n",
       "      <td>thefaeriehouse cvshealth cvs is the worst</td>\n",
       "      <td>thefaeriehouse cvshealth cvs is the worst</td>\n",
       "    </tr>\n",
       "    <tr>\n",
       "      <th>13534</th>\n",
       "      <td>aaronicabcole usps cvshealth walgreens fedex ...</td>\n",
       "      <td>aaronicabcole usps cvshealth walgreens fedex o...</td>\n",
       "    </tr>\n",
       "    <tr>\n",
       "      <th>5729</th>\n",
       "      <td>this pharmacy technician retail store job migh...</td>\n",
       "      <td>this pharmacy technician retail store job migh...</td>\n",
       "    </tr>\n",
       "  </tbody>\n",
       "</table>\n",
       "</div>"
      ],
      "text/plain": [
       "                                                  Tweets  \\\n",
       "15236  cvs health corp cvs surprised the market with ...   \n",
       "3131   at cvs health we strive to take an active supp...   \n",
       "14191         thefaeriehouse cvshealth cvs is the worst    \n",
       "13534   aaronicabcole usps cvshealth walgreens fedex ...   \n",
       "5729   this pharmacy technician retail store job migh...   \n",
       "\n",
       "                                          cleaned_tweets  \n",
       "15236  cvs health corp cvs surprised the market with ...  \n",
       "3131   at cvs health we strive to take an active supp...  \n",
       "14191          thefaeriehouse cvshealth cvs is the worst  \n",
       "13534  aaronicabcole usps cvshealth walgreens fedex o...  \n",
       "5729   this pharmacy technician retail store job migh...  "
      ]
     },
     "execution_count": 10,
     "metadata": {},
     "output_type": "execute_result"
    }
   ],
   "source": [
    "def preprocess_text(text):\n",
    "    # Convert to lowercase\n",
    "    text = text.lower()\n",
    "    # Remove URLs\n",
    "    text = re.sub(r'http\\S+|www\\S+|https\\S+', '', text, flags=re.MULTILINE)\n",
    "    # Remove mentions and hashtags\n",
    "    text = re.sub(r'@\\w+|\\#\\w+', '', text)\n",
    "    # Remove punctuations\n",
    "    text = text.translate(str.maketrans('', '', string.punctuation))\n",
    "    # Remove numbers\n",
    "    text = re.sub(r'\\d+', '', text)\n",
    "    # Remove unnecessary white spaces\n",
    "    text = text.strip()\n",
    "    \n",
    "    return text\n",
    "\n",
    "train_data['cleaned_tweets'] = train_data['Tweets'].apply(preprocess_text)\n",
    "test_data['cleaned_tweets'] = test_data['Tweets'].apply(preprocess_text)\n",
    "\n",
    "# Display sample of cleaned tweets\n",
    "train_data[['Tweets', 'cleaned_tweets']].sample(5)"
   ]
  },
  {
   "cell_type": "markdown",
   "id": "d154a08f",
   "metadata": {
    "papermill": {
     "duration": 0.014026,
     "end_time": "2023-11-01T11:44:08.790592",
     "exception": false,
     "start_time": "2023-11-01T11:44:08.776566",
     "status": "completed"
    },
    "tags": []
   },
   "source": [
    "## Feature engineering"
   ]
  },
  {
   "cell_type": "markdown",
   "id": "b3abcf6a",
   "metadata": {
    "papermill": {
     "duration": 0.013702,
     "end_time": "2023-11-01T11:44:08.818055",
     "exception": false,
     "start_time": "2023-11-01T11:44:08.804353",
     "status": "completed"
    },
    "tags": []
   },
   "source": [
    "Next, we will proceed to the **Feature Engineering phase**. We will:\n",
    "\n",
    "From the text, extract tabular features, such as word length, word count, and sentiment scores (if applicable)."
   ]
  },
  {
   "cell_type": "code",
   "execution_count": 11,
   "id": "e7ce5c18",
   "metadata": {
    "execution": {
     "iopub.execute_input": "2023-11-01T11:44:08.847033Z",
     "iopub.status.busy": "2023-11-01T11:44:08.846722Z",
     "iopub.status.idle": "2023-11-01T11:44:16.033472Z",
     "shell.execute_reply": "2023-11-01T11:44:16.032341Z"
    },
    "papermill": {
     "duration": 7.203949,
     "end_time": "2023-11-01T11:44:16.035750",
     "exception": false,
     "start_time": "2023-11-01T11:44:08.831801",
     "status": "completed"
    },
    "tags": []
   },
   "outputs": [
    {
     "data": {
      "text/html": [
       "<div>\n",
       "<style scoped>\n",
       "    .dataframe tbody tr th:only-of-type {\n",
       "        vertical-align: middle;\n",
       "    }\n",
       "\n",
       "    .dataframe tbody tr th {\n",
       "        vertical-align: top;\n",
       "    }\n",
       "\n",
       "    .dataframe thead th {\n",
       "        text-align: right;\n",
       "    }\n",
       "</style>\n",
       "<table border=\"1\" class=\"dataframe\">\n",
       "  <thead>\n",
       "    <tr style=\"text-align: right;\">\n",
       "      <th></th>\n",
       "      <th>tweet_length</th>\n",
       "      <th>num_words</th>\n",
       "      <th>sentiment</th>\n",
       "    </tr>\n",
       "  </thead>\n",
       "  <tbody>\n",
       "    <tr>\n",
       "      <th>11807</th>\n",
       "      <td>172</td>\n",
       "      <td>31</td>\n",
       "      <td>0.50</td>\n",
       "    </tr>\n",
       "    <tr>\n",
       "      <th>3943</th>\n",
       "      <td>171</td>\n",
       "      <td>28</td>\n",
       "      <td>0.00</td>\n",
       "    </tr>\n",
       "    <tr>\n",
       "      <th>5308</th>\n",
       "      <td>173</td>\n",
       "      <td>31</td>\n",
       "      <td>0.50</td>\n",
       "    </tr>\n",
       "    <tr>\n",
       "      <th>14969</th>\n",
       "      <td>63</td>\n",
       "      <td>11</td>\n",
       "      <td>0.80</td>\n",
       "    </tr>\n",
       "    <tr>\n",
       "      <th>80</th>\n",
       "      <td>159</td>\n",
       "      <td>28</td>\n",
       "      <td>0.05</td>\n",
       "    </tr>\n",
       "  </tbody>\n",
       "</table>\n",
       "</div>"
      ],
      "text/plain": [
       "       tweet_length  num_words  sentiment\n",
       "11807           172         31       0.50\n",
       "3943            171         28       0.00\n",
       "5308            173         31       0.50\n",
       "14969            63         11       0.80\n",
       "80              159         28       0.05"
      ]
     },
     "execution_count": 11,
     "metadata": {},
     "output_type": "execute_result"
    }
   ],
   "source": [
    "# Extracting sentiment scores using TextBlob\n",
    "train_data['sentiment'] = train_data['cleaned_tweets'].apply(lambda x: TextBlob(x).sentiment.polarity)\n",
    "test_data['sentiment'] = test_data['cleaned_tweets'].apply(lambda x: TextBlob(x).sentiment.polarity)\n",
    "\n",
    "# Display sample of the derived features\n",
    "train_data[['tweet_length', 'num_words', 'sentiment']].sample(5)"
   ]
  },
  {
   "cell_type": "code",
   "execution_count": 12,
   "id": "fafafd77",
   "metadata": {
    "execution": {
     "iopub.execute_input": "2023-11-01T11:44:16.066330Z",
     "iopub.status.busy": "2023-11-01T11:44:16.066019Z",
     "iopub.status.idle": "2023-11-01T11:44:16.076587Z",
     "shell.execute_reply": "2023-11-01T11:44:16.075730Z"
    },
    "papermill": {
     "duration": 0.027617,
     "end_time": "2023-11-01T11:44:16.078568",
     "exception": false,
     "start_time": "2023-11-01T11:44:16.050951",
     "status": "completed"
    },
    "tags": []
   },
   "outputs": [
    {
     "data": {
      "text/html": [
       "<div>\n",
       "<style scoped>\n",
       "    .dataframe tbody tr th:only-of-type {\n",
       "        vertical-align: middle;\n",
       "    }\n",
       "\n",
       "    .dataframe tbody tr th {\n",
       "        vertical-align: top;\n",
       "    }\n",
       "\n",
       "    .dataframe thead th {\n",
       "        text-align: right;\n",
       "    }\n",
       "</style>\n",
       "<table border=\"1\" class=\"dataframe\">\n",
       "  <thead>\n",
       "    <tr style=\"text-align: right;\">\n",
       "      <th></th>\n",
       "      <th>tweet_length</th>\n",
       "      <th>num_words</th>\n",
       "      <th>sentiment</th>\n",
       "    </tr>\n",
       "  </thead>\n",
       "  <tbody>\n",
       "    <tr>\n",
       "      <th>3458</th>\n",
       "      <td>154</td>\n",
       "      <td>29</td>\n",
       "      <td>0.500000</td>\n",
       "    </tr>\n",
       "    <tr>\n",
       "      <th>242</th>\n",
       "      <td>151</td>\n",
       "      <td>21</td>\n",
       "      <td>0.000000</td>\n",
       "    </tr>\n",
       "    <tr>\n",
       "      <th>780</th>\n",
       "      <td>171</td>\n",
       "      <td>28</td>\n",
       "      <td>0.500000</td>\n",
       "    </tr>\n",
       "    <tr>\n",
       "      <th>1954</th>\n",
       "      <td>231</td>\n",
       "      <td>36</td>\n",
       "      <td>0.068182</td>\n",
       "    </tr>\n",
       "    <tr>\n",
       "      <th>1048</th>\n",
       "      <td>96</td>\n",
       "      <td>14</td>\n",
       "      <td>0.200000</td>\n",
       "    </tr>\n",
       "  </tbody>\n",
       "</table>\n",
       "</div>"
      ],
      "text/plain": [
       "      tweet_length  num_words  sentiment\n",
       "3458           154         29   0.500000\n",
       "242            151         21   0.000000\n",
       "780            171         28   0.500000\n",
       "1954           231         36   0.068182\n",
       "1048            96         14   0.200000"
      ]
     },
     "execution_count": 12,
     "metadata": {},
     "output_type": "execute_result"
    }
   ],
   "source": [
    "# Display sample of the derived features\n",
    "test_data[['tweet_length', 'num_words', 'sentiment']].sample(5)"
   ]
  },
  {
   "cell_type": "markdown",
   "id": "8e7265dc",
   "metadata": {
    "papermill": {
     "duration": 0.014944,
     "end_time": "2023-11-01T11:44:16.107839",
     "exception": false,
     "start_time": "2023-11-01T11:44:16.092895",
     "status": "completed"
    },
    "tags": []
   },
   "source": [
    "## Feature analysis conclusion\n",
    "\n",
    "Following are the features that have been successfully derived:\n",
    "\n",
    "* tweet_length: Number of characters in the tweet.\n",
    "* num_words: Number of words in the tweet.\n",
    "* sentiment: Sentiment score of the tweet (ranging from -1 to 1, where -1 is extremely negative, 0 is neutral, and 1 is extremely positive).\n",
    "\n"
   ]
  },
  {
   "cell_type": "markdown",
   "id": "c974add9",
   "metadata": {
    "papermill": {
     "duration": 0.014893,
     "end_time": "2023-11-01T11:44:16.138406",
     "exception": false,
     "start_time": "2023-11-01T11:44:16.123513",
     "status": "completed"
    },
    "tags": []
   },
   "source": [
    "## **Modeling phase**\n",
    "\n",
    "Now that these features are in place, we can move on to the **Modeling phase**. We will proceed as follows:\n",
    "\n",
    "* Use a transformer tokenizer (such as BERT or RoBERTa) to tokenize the cleaned tweets.\n",
    "* Prepare training and validation datasets and dataloaders.\n",
    "* On the basis of the training data, train the model.\n",
    "* Analyze the performance of the model."
   ]
  },
  {
   "cell_type": "markdown",
   "id": "4571e845",
   "metadata": {
    "papermill": {
     "duration": 0.015031,
     "end_time": "2023-11-01T11:44:16.168103",
     "exception": false,
     "start_time": "2023-11-01T11:44:16.153072",
     "status": "completed"
    },
    "tags": []
   },
   "source": [
    "### RoBERT Tokenizer"
   ]
  },
  {
   "cell_type": "code",
   "execution_count": 13,
   "id": "07e89124",
   "metadata": {
    "execution": {
     "iopub.execute_input": "2023-11-01T11:44:16.198856Z",
     "iopub.status.busy": "2023-11-01T11:44:16.198505Z",
     "iopub.status.idle": "2023-11-01T11:44:37.471198Z",
     "shell.execute_reply": "2023-11-01T11:44:37.470152Z"
    },
    "papermill": {
     "duration": 21.290209,
     "end_time": "2023-11-01T11:44:37.473258",
     "exception": false,
     "start_time": "2023-11-01T11:44:16.183049",
     "status": "completed"
    },
    "tags": []
   },
   "outputs": [
    {
     "data": {
      "application/vnd.jupyter.widget-view+json": {
       "model_id": "0fcbf906647041bdb087b1a812876e91",
       "version_major": 2,
       "version_minor": 0
      },
      "text/plain": [
       "Downloading (…)olve/main/vocab.json:   0%|          | 0.00/899k [00:00<?, ?B/s]"
      ]
     },
     "metadata": {},
     "output_type": "display_data"
    },
    {
     "data": {
      "application/vnd.jupyter.widget-view+json": {
       "model_id": "371284233aa34cd08c3a6c8d1e207743",
       "version_major": 2,
       "version_minor": 0
      },
      "text/plain": [
       "Downloading (…)olve/main/merges.txt:   0%|          | 0.00/456k [00:00<?, ?B/s]"
      ]
     },
     "metadata": {},
     "output_type": "display_data"
    },
    {
     "data": {
      "application/vnd.jupyter.widget-view+json": {
       "model_id": "900efc6679c84b3f8a8bccdf628e3fa0",
       "version_major": 2,
       "version_minor": 0
      },
      "text/plain": [
       "Downloading (…)lve/main/config.json:   0%|          | 0.00/481 [00:00<?, ?B/s]"
      ]
     },
     "metadata": {},
     "output_type": "display_data"
    },
    {
     "data": {
      "text/plain": [
       "dict_keys(['input_ids', 'attention_mask'])"
      ]
     },
     "execution_count": 13,
     "metadata": {},
     "output_type": "execute_result"
    }
   ],
   "source": [
    "from transformers import RobertaTokenizer\n",
    "from sklearn.model_selection import train_test_split\n",
    "\n",
    "# Initialize the RoBERTa tokenizer\n",
    "tokenizer = RobertaTokenizer.from_pretrained(\"roberta-base\")\n",
    "\n",
    "# Tokenize the cleaned tweets\n",
    "train_encodings = tokenizer(train_data['cleaned_tweets'].tolist(), truncation=True, padding='max_length', max_length=100, return_tensors=\"pt\")\n",
    "test_encodings = tokenizer(test_data['cleaned_tweets'].tolist(), truncation=True, padding='max_length', max_length=100, return_tensors=\"pt\")\n",
    "\n",
    "# Split the training data into training and validation sets\n",
    "train_texts, val_texts, train_labels, val_labels = train_test_split(train_data['cleaned_tweets'], train_data['Risk Analysis'], test_size=0.2, stratify=train_data['Risk Analysis'])\n",
    "\n",
    "# Tokenize the training and validation sets\n",
    "train_encodings = tokenizer(train_texts.tolist(), truncation=True, padding='max_length', max_length=100, return_tensors=\"pt\")\n",
    "val_encodings = tokenizer(val_texts.tolist(), truncation=True, padding='max_length', max_length=100, return_tensors=\"pt\")\n",
    "\n",
    "train_encodings.keys()\n"
   ]
  },
  {
   "cell_type": "markdown",
   "id": "54965eb5",
   "metadata": {
    "papermill": {
     "duration": 0.015078,
     "end_time": "2023-11-01T11:44:37.504626",
     "exception": false,
     "start_time": "2023-11-01T11:44:37.489548",
     "status": "completed"
    },
    "tags": []
   },
   "source": [
    "### TF-IDF vectorization"
   ]
  },
  {
   "cell_type": "code",
   "execution_count": 14,
   "id": "eef673bd",
   "metadata": {
    "execution": {
     "iopub.execute_input": "2023-11-01T11:44:37.536831Z",
     "iopub.status.busy": "2023-11-01T11:44:37.536513Z",
     "iopub.status.idle": "2023-11-01T11:44:40.030057Z",
     "shell.execute_reply": "2023-11-01T11:44:40.029153Z"
    },
    "papermill": {
     "duration": 2.512398,
     "end_time": "2023-11-01T11:44:40.032245",
     "exception": false,
     "start_time": "2023-11-01T11:44:37.519847",
     "status": "completed"
    },
    "tags": []
   },
   "outputs": [
    {
     "data": {
      "text/plain": [
       "((16163, 5003), (4041, 5003))"
      ]
     },
     "execution_count": 14,
     "metadata": {},
     "output_type": "execute_result"
    }
   ],
   "source": [
    "# TF-IDF Vectorization of the cleaned tweets\n",
    "tfidf_vectorizer = TfidfVectorizer(max_features=5000)\n",
    "tfidf_train = tfidf_vectorizer.fit_transform(train_data['cleaned_tweets'])\n",
    "tfidf_test = tfidf_vectorizer.transform(test_data['cleaned_tweets'])\n",
    "\n",
    "# Standardize the extracted features\n",
    "scaler = StandardScaler()\n",
    "features_train = scaler.fit_transform(train_data[['tweet_length', 'num_words', 'sentiment']])\n",
    "features_test = scaler.transform(test_data[['tweet_length', 'num_words', 'sentiment']])\n",
    "\n",
    "# Convert to dense arrays for concatenation\n",
    "tfidf_train_dense = tfidf_train.todense()\n",
    "tfidf_test_dense = tfidf_test.todense()\n",
    "\n",
    "# Concatenate TF-IDF vectors with the derived features\n",
    "X_train = np.hstack((tfidf_train_dense, features_train))\n",
    "X_test = np.hstack((tfidf_test_dense, features_test))\n",
    "y_train = train_data['Risk Analysis'].values\n",
    "\n",
    "# Split the training data into train and validation sets\n",
    "X_train_split, X_val_split, y_train_split, y_val_split = train_test_split(X_train, y_train, test_size=0.2, stratify=y_train, random_state=42)\n",
    "\n",
    "X_train_split.shape, X_val_split.shape"
   ]
  },
  {
   "cell_type": "code",
   "execution_count": 15,
   "id": "a797935e",
   "metadata": {
    "execution": {
     "iopub.execute_input": "2023-11-01T11:44:40.064666Z",
     "iopub.status.busy": "2023-11-01T11:44:40.064395Z",
     "iopub.status.idle": "2023-11-01T11:44:40.077486Z",
     "shell.execute_reply": "2023-11-01T11:44:40.076766Z"
    },
    "papermill": {
     "duration": 0.031458,
     "end_time": "2023-11-01T11:44:40.079401",
     "exception": false,
     "start_time": "2023-11-01T11:44:40.047943",
     "status": "completed"
    },
    "tags": []
   },
   "outputs": [],
   "source": [
    "import torch\n",
    "from torch.utils.data import DataLoader, TensorDataset\n",
    "\n",
    "# Convert tokenized data and labels into PyTorch datasets\n",
    "train_dataset = TensorDataset(train_encodings.input_ids, train_encodings.attention_mask, torch.tensor(train_labels.tolist()))\n",
    "val_dataset = TensorDataset(val_encodings.input_ids, val_encodings.attention_mask, torch.tensor(val_labels.tolist()))\n",
    "test_dataset = TensorDataset(test_encodings.input_ids, test_encodings.attention_mask)\n",
    "\n",
    "# Prepare DataLoader for efficient batch training\n",
    "train_loader = DataLoader(train_dataset, shuffle=True, batch_size=16)\n",
    "val_loader = DataLoader(val_dataset, batch_size=16)\n",
    "test_loader = DataLoader(test_dataset, batch_size=16)"
   ]
  },
  {
   "cell_type": "code",
   "execution_count": 16,
   "id": "533619a3",
   "metadata": {
    "execution": {
     "iopub.execute_input": "2023-11-01T11:44:40.110837Z",
     "iopub.status.busy": "2023-11-01T11:44:40.110526Z",
     "iopub.status.idle": "2023-11-01T11:44:50.926386Z",
     "shell.execute_reply": "2023-11-01T11:44:50.925533Z"
    },
    "papermill": {
     "duration": 10.834381,
     "end_time": "2023-11-01T11:44:50.929007",
     "exception": false,
     "start_time": "2023-11-01T11:44:40.094626",
     "status": "completed"
    },
    "tags": []
   },
   "outputs": [
    {
     "data": {
      "application/vnd.jupyter.widget-view+json": {
       "model_id": "2020ed9643fa4521afb4d4e3d99bb211",
       "version_major": 2,
       "version_minor": 0
      },
      "text/plain": [
       "Downloading model.safetensors:   0%|          | 0.00/499M [00:00<?, ?B/s]"
      ]
     },
     "metadata": {},
     "output_type": "display_data"
    },
    {
     "name": "stderr",
     "output_type": "stream",
     "text": [
      "Some weights of RobertaForSequenceClassification were not initialized from the model checkpoint at roberta-base and are newly initialized: ['classifier.out_proj.bias', 'classifier.dense.weight', 'classifier.out_proj.weight', 'classifier.dense.bias']\n",
      "You should probably TRAIN this model on a down-stream task to be able to use it for predictions and inference.\n"
     ]
    }
   ],
   "source": [
    "from transformers import RobertaForSequenceClassification, AdamW\n",
    "\n",
    "# Define the model\n",
    "model = RobertaForSequenceClassification.from_pretrained(\"roberta-base\", num_labels=2)  # Binary classification\n",
    "model = model.cuda()  # Move model to GPU if available\n",
    "\n",
    "# Define the optimizer\n",
    "optimizer = AdamW(model.parameters(), lr=1e-5)\n",
    "\n",
    "# Define the loss function (Cross Entropy Loss for binary classification)\n",
    "loss_fn = torch.nn.CrossEntropyLoss().cuda()  # Move loss to GPU if available\n"
   ]
  },
  {
   "cell_type": "markdown",
   "id": "2be5cf12",
   "metadata": {
    "papermill": {
     "duration": 0.015522,
     "end_time": "2023-11-01T11:44:50.960326",
     "exception": false,
     "start_time": "2023-11-01T11:44:50.944804",
     "status": "completed"
    },
    "tags": []
   },
   "source": [
    "## **Model training**"
   ]
  },
  {
   "cell_type": "markdown",
   "id": "f4302d22",
   "metadata": {
    "papermill": {
     "duration": 0.016062,
     "end_time": "2023-11-01T11:44:50.992411",
     "exception": false,
     "start_time": "2023-11-01T11:44:50.976349",
     "status": "completed"
    },
    "tags": []
   },
   "source": [
    "**An overview of the training procedure**\n",
    "\n",
    "In order to train the model, we will follow the following steps:\n",
    "* The forward pass is used to obtain the model's outputs.\n",
    "* Calculate the loss.\n",
    "* Gradients are computed by performing a backward pass.\n",
    "* Update the weight"
   ]
  },
  {
   "cell_type": "code",
   "execution_count": 17,
   "id": "cceca3dc",
   "metadata": {
    "execution": {
     "iopub.execute_input": "2023-11-01T11:44:51.026174Z",
     "iopub.status.busy": "2023-11-01T11:44:51.025474Z",
     "iopub.status.idle": "2023-11-01T11:59:31.724863Z",
     "shell.execute_reply": "2023-11-01T11:59:31.723644Z"
    },
    "papermill": {
     "duration": 880.718993,
     "end_time": "2023-11-01T11:59:31.727619",
     "exception": false,
     "start_time": "2023-11-01T11:44:51.008626",
     "status": "completed"
    },
    "tags": []
   },
   "outputs": [
    {
     "name": "stdout",
     "output_type": "stream",
     "text": [
      "Epoch 1/3, Loss: 0.2481013176581361\n",
      "Validation Accuracy: 94.11%, Loss: 0.18475959782779453\n",
      "Epoch 2/3, Loss: 0.11743989828043608\n",
      "Validation Accuracy: 95.72%, Loss: 0.13789688196611175\n",
      "Epoch 3/3, Loss: 0.06727135725988169\n",
      "Validation Accuracy: 95.92%, Loss: 0.1375603531273321\n"
     ]
    }
   ],
   "source": [
    "# Training Loop\n",
    "num_epochs = 3\n",
    "\n",
    "for epoch in range(num_epochs):\n",
    "    model.train()\n",
    "    total_loss = 0\n",
    "    for batch in train_loader:\n",
    "        optimizer.zero_grad()  # Reset gradients\n",
    "        input_ids, attention_mask, labels = batch\n",
    "        input_ids, attention_mask, labels = input_ids.cuda(), attention_mask.cuda(), labels.cuda()  # Move tensors to GPU if available.\n",
    "        #input_ids, attention_mask, labels = input_ids.cpu(), attention_mask.cpu(), labels.cpu()  # Since cuda isn't avaialbe \n",
    "\n",
    "        # Forward pass\n",
    "        outputs = model(input_ids, attention_mask=attention_mask)\n",
    "        logits = outputs.logits\n",
    "        labels = labels.long()  # Ensure labels are of type LongTensor\n",
    "        loss = loss_fn(logits, labels)\n",
    "        \n",
    "        # Backward pass\n",
    "        loss.backward()\n",
    "        optimizer.step()\n",
    "        \n",
    "        total_loss += loss.item()\n",
    "\n",
    "    print(f\"Epoch {epoch + 1}/{num_epochs}, Loss: {total_loss / len(train_loader)}\")\n",
    "\n",
    "    # Validation\n",
    "    model.eval()\n",
    "    val_total_loss = 0\n",
    "    val_correct_predictions = 0\n",
    "    with torch.no_grad():\n",
    "        for batch in val_loader:\n",
    "            input_ids, attention_mask, labels = batch\n",
    "            input_ids, attention_mask, labels = input_ids.cuda(), attention_mask.cuda(), labels.cuda()  # Move tensors to GPU if available\n",
    "            #input_ids, attention_mask, labels = input_ids.cpu(), attention_mask.cpu(), labels.cpu()  # Since cuda isn't avaialbe\n",
    "\n",
    "            outputs = model(input_ids, attention_mask=attention_mask)\n",
    "            logits = outputs.logits\n",
    "            labels = labels.long()  # Ensure labels are of type LongTensor\n",
    "            val_loss = loss_fn(logits, labels)\n",
    "            val_total_loss += val_loss.item()\n",
    "\n",
    "            preds = torch.argmax(logits, dim=1)\n",
    "            val_correct_predictions += (preds == labels).sum().item()\n",
    "\n",
    "    val_accuracy = val_correct_predictions / len(val_texts)\n",
    "    print(f\"Validation Accuracy: {val_accuracy * 100:.2f}%, Loss: {val_total_loss / len(val_loader)}\")\n"
   ]
  },
  {
   "cell_type": "markdown",
   "id": "fef9b4b5",
   "metadata": {
    "papermill": {
     "duration": 0.016942,
     "end_time": "2023-11-01T11:59:31.766581",
     "exception": false,
     "start_time": "2023-11-01T11:59:31.749639",
     "status": "completed"
    },
    "tags": []
   },
   "source": [
    "### **Model prediction**"
   ]
  },
  {
   "cell_type": "code",
   "execution_count": 18,
   "id": "20b106f9",
   "metadata": {
    "execution": {
     "iopub.execute_input": "2023-11-01T11:59:31.802703Z",
     "iopub.status.busy": "2023-11-01T11:59:31.801703Z",
     "iopub.status.idle": "2023-11-01T11:59:57.502462Z",
     "shell.execute_reply": "2023-11-01T11:59:57.501662Z"
    },
    "papermill": {
     "duration": 25.72033,
     "end_time": "2023-11-01T11:59:57.504785",
     "exception": false,
     "start_time": "2023-11-01T11:59:31.784455",
     "status": "completed"
    },
    "tags": []
   },
   "outputs": [],
   "source": [
    "# Predict on test set\n",
    "model.eval()\n",
    "test_predictions = []\n",
    "with torch.no_grad():\n",
    "    for batch in test_loader:\n",
    "        input_ids, attention_mask = batch\n",
    "        input_ids, attention_mask = input_ids.cuda(), attention_mask.cuda()  # Move tensors to GPU if available\n",
    "\n",
    "        outputs = model(input_ids, attention_mask=attention_mask)\n",
    "        logits = outputs.logits\n",
    "        preds = torch.argmax(logits, dim=1)\n",
    "        test_predictions.extend(preds.cpu().numpy())"
   ]
  },
  {
   "cell_type": "markdown",
   "id": "eff7de75",
   "metadata": {
    "papermill": {
     "duration": 0.01593,
     "end_time": "2023-11-01T11:59:57.536954",
     "exception": false,
     "start_time": "2023-11-01T11:59:57.521024",
     "status": "completed"
    },
    "tags": []
   },
   "source": [
    "### **Distribtuion of predicted Risks**"
   ]
  },
  {
   "cell_type": "code",
   "execution_count": 19,
   "id": "f438f81f",
   "metadata": {
    "execution": {
     "iopub.execute_input": "2023-11-01T11:59:57.570893Z",
     "iopub.status.busy": "2023-11-01T11:59:57.570519Z",
     "iopub.status.idle": "2023-11-01T11:59:57.780166Z",
     "shell.execute_reply": "2023-11-01T11:59:57.779174Z"
    },
    "papermill": {
     "duration": 0.22929,
     "end_time": "2023-11-01T11:59:57.782521",
     "exception": false,
     "start_time": "2023-11-01T11:59:57.553231",
     "status": "completed"
    },
    "tags": []
   },
   "outputs": [
    {
     "data": {
      "image/png": "[encoded data removed]",
      "text/plain": [
       "<Figure size 800x500 with 1 Axes>"
      ]
     },
     "metadata": {},
     "output_type": "display_data"
    },
    {
     "data": {
      "text/html": [
       "<div>\n",
       "<style scoped>\n",
       "    .dataframe tbody tr th:only-of-type {\n",
       "        vertical-align: middle;\n",
       "    }\n",
       "\n",
       "    .dataframe tbody tr th {\n",
       "        vertical-align: top;\n",
       "    }\n",
       "\n",
       "    .dataframe thead th {\n",
       "        text-align: right;\n",
       "    }\n",
       "</style>\n",
       "<table border=\"1\" class=\"dataframe\">\n",
       "  <thead>\n",
       "    <tr style=\"text-align: right;\">\n",
       "      <th></th>\n",
       "      <th>Tweets</th>\n",
       "      <th>Predicted_Risk</th>\n",
       "    </tr>\n",
       "  </thead>\n",
       "  <tbody>\n",
       "    <tr>\n",
       "      <th>406</th>\n",
       "      <td>want to work at cvs health we re hiring in pom...</td>\n",
       "      <td>0</td>\n",
       "    </tr>\n",
       "    <tr>\n",
       "      <th>1397</th>\n",
       "      <td>our colleagues at #cvshealth touch the lives o...</td>\n",
       "      <td>0</td>\n",
       "    </tr>\n",
       "    <tr>\n",
       "      <th>1109</th>\n",
       "      <td>make an impact everyday at #cvshealth read abo...</td>\n",
       "      <td>0</td>\n",
       "    </tr>\n",
       "    <tr>\n",
       "      <th>2965</th>\n",
       "      <td>eevabee stefanako fishcongen i ve always thoug...</td>\n",
       "      <td>1</td>\n",
       "    </tr>\n",
       "    <tr>\n",
       "      <th>3058</th>\n",
       "      <td>dino s cv sky turtle a box weapon of rejuvenat...</td>\n",
       "      <td>1</td>\n",
       "    </tr>\n",
       "    <tr>\n",
       "      <th>381</th>\n",
       "      <td>#doral #jobs #hiring #opportunity cvs health r...</td>\n",
       "      <td>0</td>\n",
       "    </tr>\n",
       "    <tr>\n",
       "      <th>2255</th>\n",
       "      <td>one person working in the pharmacy now at minu...</td>\n",
       "      <td>0</td>\n",
       "    </tr>\n",
       "    <tr>\n",
       "      <th>2546</th>\n",
       "      <td>cvs health corp cvs surprised the market with ...</td>\n",
       "      <td>1</td>\n",
       "    </tr>\n",
       "    <tr>\n",
       "      <th>1676</th>\n",
       "      <td>cvs medableinc and cvshealth announced a colla...</td>\n",
       "      <td>0</td>\n",
       "    </tr>\n",
       "    <tr>\n",
       "      <th>1039</th>\n",
       "      <td>our community health destinations are engaging...</td>\n",
       "      <td>0</td>\n",
       "    </tr>\n",
       "  </tbody>\n",
       "</table>\n",
       "</div>"
      ],
      "text/plain": [
       "                                                 Tweets  Predicted_Risk\n",
       "406   want to work at cvs health we re hiring in pom...               0\n",
       "1397  our colleagues at #cvshealth touch the lives o...               0\n",
       "1109  make an impact everyday at #cvshealth read abo...               0\n",
       "2965  eevabee stefanako fishcongen i ve always thoug...               1\n",
       "3058  dino s cv sky turtle a box weapon of rejuvenat...               1\n",
       "381   #doral #jobs #hiring #opportunity cvs health r...               0\n",
       "2255  one person working in the pharmacy now at minu...               0\n",
       "2546  cvs health corp cvs surprised the market with ...               1\n",
       "1676  cvs medableinc and cvshealth announced a colla...               0\n",
       "1039  our community health destinations are engaging...               0"
      ]
     },
     "metadata": {},
     "output_type": "display_data"
    }
   ],
   "source": [
    "# 1. Convert Predictions to DataFrame\n",
    "test_data[\"Predicted_Risk\"] = test_predictions\n",
    "\n",
    "# 2. Visualize Predictions\n",
    "plt.figure(figsize=(8, 5))\n",
    "sns.countplot(data=test_data, x='Predicted_Risk')\n",
    "plt.title(\"Distribution of Predicted Risk Labels on Test Data\")\n",
    "plt.show()\n",
    "\n",
    "# 3. Sample Predicted Tweets\n",
    "sample_predictions = test_data[['Tweets', 'Predicted_Risk']].sample(10)\n",
    "display(sample_predictions)"
   ]
  },
  {
   "cell_type": "markdown",
   "id": "26906605",
   "metadata": {
    "papermill": {
     "duration": 0.017714,
     "end_time": "2023-11-01T11:59:57.820874",
     "exception": false,
     "start_time": "2023-11-01T11:59:57.803160",
     "status": "completed"
    },
    "tags": []
   },
   "source": [
    "### **Output**\n",
    "## Saving to csv file to be sumitted"
   ]
  },
  {
   "cell_type": "code",
   "execution_count": 20,
   "id": "15eeb70f",
   "metadata": {
    "execution": {
     "iopub.execute_input": "2023-11-01T11:59:57.857882Z",
     "iopub.status.busy": "2023-11-01T11:59:57.857550Z",
     "iopub.status.idle": "2023-11-01T11:59:57.877523Z",
     "shell.execute_reply": "2023-11-01T11:59:57.876810Z"
    },
    "papermill": {
     "duration": 0.040992,
     "end_time": "2023-11-01T11:59:57.879532",
     "exception": false,
     "start_time": "2023-11-01T11:59:57.838540",
     "status": "completed"
    },
    "tags": []
   },
   "outputs": [],
   "source": [
    "# Extract relevant columns\n",
    "submission_df = test_data[['ID', 'Predicted_Risk']]\n",
    "submission_df.columns = ['ID', 'Risk Analysis']\n",
    "\n",
    "# Save to CSV\n",
    "submission_df.to_csv(\"submission.csv\", index=False)"
   ]
  },
  {
   "cell_type": "code",
   "execution_count": 21,
   "id": "d387a957",
   "metadata": {
    "execution": {
     "iopub.execute_input": "2023-11-01T11:59:57.917996Z",
     "iopub.status.busy": "2023-11-01T11:59:57.917669Z",
     "iopub.status.idle": "2023-11-01T11:59:57.930142Z",
     "shell.execute_reply": "2023-11-01T11:59:57.929019Z"
    },
    "papermill": {
     "duration": 0.034923,
     "end_time": "2023-11-01T11:59:57.932518",
     "exception": false,
     "start_time": "2023-11-01T11:59:57.897595",
     "status": "completed"
    },
    "tags": []
   },
   "outputs": [
    {
     "name": "stdout",
     "output_type": "stream",
     "text": [
      "F1 Score: 1.0000\n"
     ]
    }
   ],
   "source": [
    "from sklearn.metrics import f1_score\n",
    "\n",
    "# Assuming `test_data` has a column called 'Risk Analysis' which is the ground truth\n",
    "ground_truth = submission_df['Risk Analysis'].values\n",
    "\n",
    "# Compute F1 score\n",
    "f1 = f1_score(ground_truth, test_predictions)\n",
    "print(f\"F1 Score: {f1:.4f}\")\n"
   ]
  },
  {
   "cell_type": "code",
   "execution_count": 22,
   "id": "688b7675",
   "metadata": {
    "execution": {
     "iopub.execute_input": "2023-11-01T11:59:57.970339Z",
     "iopub.status.busy": "2023-11-01T11:59:57.970052Z",
     "iopub.status.idle": "2023-11-01T12:00:19.540544Z",
     "shell.execute_reply": "2023-11-01T12:00:19.539407Z"
    },
    "papermill": {
     "duration": 21.591203,
     "end_time": "2023-11-01T12:00:19.543200",
     "exception": false,
     "start_time": "2023-11-01T11:59:57.951997",
     "status": "completed"
    },
    "tags": []
   },
   "outputs": [
    {
     "data": {
      "image/png": "[encoded data removed]",
      "text/plain": [
       "<Figure size 1000x600 with 1 Axes>"
      ]
     },
     "metadata": {},
     "output_type": "display_data"
    },
    {
     "name": "stdout",
     "output_type": "stream",
     "text": [
      "Optimal Threshold: 0.57\n",
      "Maximum F1 Score: 0.94\n"
     ]
    }
   ],
   "source": [
    "from sklearn.metrics import f1_score\n",
    "import numpy as np\n",
    "import matplotlib.pyplot as plt\n",
    "\n",
    "y_true, y_pred_probs = [], []\n",
    "\n",
    "# We'll gather the true labels and predicted probabilities for the validation set\n",
    "model.eval()\n",
    "with torch.no_grad():\n",
    "    for batch in val_loader:\n",
    "        input_ids, attention_mask, labels = batch\n",
    "        input_ids, attention_mask, labels = input_ids.to(device), attention_mask.to(device), labels.to(device)\n",
    "        \n",
    "        outputs = model(input_ids, attention_mask=attention_mask)\n",
    "        logits = outputs.logits\n",
    "        probs = torch.nn.functional.softmax(logits, dim=-1)\n",
    "        \n",
    "        y_true.extend(labels.cpu().numpy())\n",
    "        y_pred_probs.extend(probs[:,1].cpu().numpy())\n",
    "\n",
    "thresholds = np.linspace(0, 1, 100)\n",
    "f1_scores = []\n",
    "\n",
    "for threshold in thresholds:\n",
    "    y_pred = (np.array(y_pred_probs) >= threshold).astype(int)\n",
    "    f1_scores.append(f1_score(y_true, y_pred))\n",
    "\n",
    "# Find the optimal threshold\n",
    "optimal_threshold = thresholds[np.argmax(f1_scores)]\n",
    "max_f1 = max(f1_scores)\n",
    "\n",
    "plt.figure(figsize=(10, 6))\n",
    "plt.plot(thresholds, f1_scores, label='F1 Score', color='blue')\n",
    "plt.axvline(x=optimal_threshold, color='red', linestyle='--', label=f'Optimal Threshold: {optimal_threshold:.2f}')\n",
    "plt.scatter(optimal_threshold, max_f1, color='red')\n",
    "plt.xlabel('Threshold')\n",
    "plt.ylabel('F1 Score')\n",
    "plt.title('F1 Score vs. Decision Threshold')\n",
    "plt.legend()\n",
    "plt.grid(True)\n",
    "plt.show()\n",
    "\n",
    "print(f\"Optimal Threshold: {optimal_threshold:.2f}\")\n",
    "print(f\"Maximum F1 Score: {max_f1:.2f}\")\n"
   ]
  },
  {
   "cell_type": "markdown",
   "id": "93025b34",
   "metadata": {
    "papermill": {
     "duration": 0.017021,
     "end_time": "2023-11-01T12:00:19.578936",
     "exception": false,
     "start_time": "2023-11-01T12:00:19.561915",
     "status": "completed"
    },
    "tags": []
   },
   "source": [
    "## **Topic Modeling**"
   ]
  },
  {
   "cell_type": "markdown",
   "id": "08f315c9",
   "metadata": {
    "papermill": {
     "duration": 0.016678,
     "end_time": "2023-11-01T12:00:19.612671",
     "exception": false,
     "start_time": "2023-11-01T12:00:19.595993",
     "status": "completed"
    },
    "tags": []
   },
   "source": [
    "Lastly although this is not part of requirements & scope but lets explore **topic modeling techniques**\n",
    "\n",
    "These implementations should help understand us & review our understanding for extract topics from the tweets dataset using different methods. Each method will give us slightly different topics based on their underlying algorithms, and provide us discretion and analysis to decide which method provides the most interpretable and meaningful topics for this dataset."
   ]
  },
  {
   "cell_type": "markdown",
   "id": "5c0e529c",
   "metadata": {
    "papermill": {
     "duration": 0.016993,
     "end_time": "2023-11-01T12:00:19.647238",
     "exception": false,
     "start_time": "2023-11-01T12:00:19.630245",
     "status": "completed"
    },
    "tags": []
   },
   "source": [
    "### 1. Latent Semantic Analysis (LSA):\n",
    "\n",
    "LSA uses singular value decomposition (SVD) to decompose the term-document matrix into multiple matrices, capturing the structure of the data and the relationships between words and topics.\n",
    "\n",
    "Implementation:"
   ]
  },
  {
   "cell_type": "code",
   "execution_count": 23,
   "id": "7484e371",
   "metadata": {
    "execution": {
     "iopub.execute_input": "2023-11-01T12:00:19.684178Z",
     "iopub.status.busy": "2023-11-01T12:00:19.683461Z",
     "iopub.status.idle": "2023-11-01T12:00:21.803590Z",
     "shell.execute_reply": "2023-11-01T12:00:21.802651Z"
    },
    "papermill": {
     "duration": 2.140938,
     "end_time": "2023-11-01T12:00:21.805569",
     "exception": false,
     "start_time": "2023-11-01T12:00:19.664631",
     "status": "completed"
    },
    "tags": []
   },
   "outputs": [
    {
     "name": "stdout",
     "output_type": "stream",
     "text": [
      "Topic #1: cvs, health, corp, pharmacy, job\n"
     ]
    },
    {
     "data": {
      "image/png": "[encoded data removed]",
      "text/plain": [
       "<Figure size 800x600 with 1 Axes>"
      ]
     },
     "metadata": {},
     "output_type": "display_data"
    },
    {
     "name": "stdout",
     "output_type": "stream",
     "text": [
      "Topic #2: pharmacy, technician, link, bio, job\n"
     ]
    },
    {
     "data": {
      "image/png": "[encoded data removed]",
      "text/plain": [
       "<Figure size 800x600 with 1 Axes>"
      ]
     },
     "metadata": {},
     "output_type": "display_data"
    },
    {
     "name": "stdout",
     "output_type": "stream",
     "text": [
      "Topic #3: health, cv, cvshealth, amp, care\n"
     ]
    },
    {
     "data": {
      "image/png": "[encoded data removed]",
      "text/plain": [
       "<Figure size 800x600 with 1 Axes>"
      ]
     },
     "metadata": {},
     "output_type": "display_data"
    },
    {
     "name": "stdout",
     "output_type": "stream",
     "text": [
      "Topic #4: cvshealth, mdbreathe, cvspharmacy, cvs, pharmacy\n"
     ]
    },
    {
     "data": {
      "image/png": "[encoded data removed]",
      "text/plain": [
       "<Figure size 800x600 with 1 Axes>"
      ]
     },
     "metadata": {},
     "output_type": "display_data"
    },
    {
     "name": "stdout",
     "output_type": "stream",
     "text": [
      "Topic #5: pharmacy, technician, cv, amp, corp\n"
     ]
    },
    {
     "data": {
      "image/png": "[encoded data removed]",
      "text/plain": [
       "<Figure size 800x600 with 1 Axes>"
      ]
     },
     "metadata": {},
     "output_type": "display_data"
    }
   ],
   "source": [
    "from sklearn.feature_extraction.text import CountVectorizer\n",
    "from sklearn.decomposition import TruncatedSVD\n",
    "\n",
    "# Vectorize the data\n",
    "vectorizer = CountVectorizer(max_df=0.95, min_df=2, stop_words='english')\n",
    "X = vectorizer.fit_transform(train_data['cleaned_tweets'])\n",
    "\n",
    "# Apply LSA\n",
    "lsa_model = TruncatedSVD(n_components=5, random_state=42)\n",
    "lsa_topic_matrix = lsa_model.fit_transform(X)\n",
    "\n",
    "# Getting the top words for each topic\n",
    "def get_lsa_topics(model, vectorizer, n_words=5):\n",
    "    terms = vectorizer.get_feature_names_out()\n",
    "    topic_keywords = []\n",
    "    for topic_weights in model.components_:\n",
    "        top_keyword_locs = (-topic_weights).argsort()[:n_words]\n",
    "        topic_keywords.append(terms.take(top_keyword_locs))\n",
    "    return topic_keywords\n",
    "\n",
    "lsa_keywords = get_lsa_topics(lsa_model, vectorizer)\n",
    "\n",
    "# Convert terms to a list for indexing\n",
    "terms_list = list(vectorizer.get_feature_names_out())\n",
    "\n",
    "# Plotting the topics\n",
    "for index, topic in enumerate(lsa_keywords):\n",
    "    print(f\"Topic #{index + 1}: {', '.join(topic)}\")\n",
    "    plt.figure(figsize=(8, 6))\n",
    "    sns.barplot(x=topic, y=lsa_model.components_[index][[terms_list.index(i) for i in topic]])\n",
    "    plt.title(f\"Topic #{index + 1}\")\n",
    "    plt.show()\n"
   ]
  },
  {
   "cell_type": "markdown",
   "id": "3d6f1b97",
   "metadata": {
    "papermill": {
     "duration": 0.020355,
     "end_time": "2023-11-01T12:00:21.845884",
     "exception": false,
     "start_time": "2023-11-01T12:00:21.825529",
     "status": "completed"
    },
    "tags": []
   },
   "source": [
    "### 2. Probabilistic Latent Semantic Analysis (pLSA):\n",
    "\n",
    "Unlike LSA, pLSA is a generative model. It models the joint distribution of words and documents and then tries to learn the latent topics based on this distribution.\n",
    "pLSA is less commonly used in Python due to the lack of pre-built libraries and because LDA (which is discussed below) often outperforms it.\n",
    "\n",
    "### 3. Latent Dirichlet Allocation (LDA):\n",
    "\n",
    "LDA is a probabilistic extension of LSA. It assumes that there are K topics shared across a collection of documents. Each document is represented as a distribution over topics, and each topic is conceived as a distribution over words in the documents.\n",
    "\n",
    "Implementation:"
   ]
  },
  {
   "cell_type": "code",
   "execution_count": 24,
   "id": "d80c5de1",
   "metadata": {
    "execution": {
     "iopub.execute_input": "2023-11-01T12:00:21.893862Z",
     "iopub.status.busy": "2023-11-01T12:00:21.893489Z",
     "iopub.status.idle": "2023-11-01T12:01:19.806882Z",
     "shell.execute_reply": "2023-11-01T12:01:19.805960Z"
    },
    "papermill": {
     "duration": 57.940233,
     "end_time": "2023-11-01T12:01:19.808786",
     "exception": false,
     "start_time": "2023-11-01T12:00:21.868553",
     "status": "completed"
    },
    "tags": []
   },
   "outputs": [
    {
     "name": "stdout",
     "output_type": "stream",
     "text": [
      "Topic #1: health, cvs, cv, amp, today\n"
     ]
    },
    {
     "data": {
      "image/png": "[encoded data removed]",
      "text/plain": [
       "<Figure size 800x600 with 1 Axes>"
      ]
     },
     "metadata": {},
     "output_type": "display_data"
    },
    {
     "name": "stdout",
     "output_type": "stream",
     "text": [
      "Topic #2: cvshealth, mdbreathe, cvspharmacy, walgreens, don\n"
     ]
    },
    {
     "data": {
      "image/png": "[encoded data removed]",
      "text/plain": [
       "<Figure size 800x600 with 1 Axes>"
      ]
     },
     "metadata": {},
     "output_type": "display_data"
    },
    {
     "name": "stdout",
     "output_type": "stream",
     "text": [
      "Topic #3: cvs, health, corp, market, rating\n"
     ]
    },
    {
     "data": {
      "image/png": "[encoded data removed]",
      "text/plain": [
       "<Figure size 800x600 with 1 Axes>"
      ]
     },
     "metadata": {},
     "output_type": "display_data"
    },
    {
     "name": "stdout",
     "output_type": "stream",
     "text": [
      "Topic #4: health, cv, cvs, care, amp\n"
     ]
    },
    {
     "data": {
      "image/png": "[encoded data removed]",
      "text/plain": [
       "<Figure size 800x600 with 1 Axes>"
      ]
     },
     "metadata": {},
     "output_type": "display_data"
    },
    {
     "name": "stdout",
     "output_type": "stream",
     "text": [
      "Topic #5: health, cvs, pharmacy, job, technician\n"
     ]
    },
    {
     "data": {
      "image/png": "[encoded data removed]",
      "text/plain": [
       "<Figure size 800x600 with 1 Axes>"
      ]
     },
     "metadata": {},
     "output_type": "display_data"
    }
   ],
   "source": [
    "from sklearn.decomposition import LatentDirichletAllocation\n",
    "\n",
    "# Apply LDA\n",
    "lda_model = LatentDirichletAllocation(n_components=5, random_state=42)\n",
    "lda_topic_matrix = lda_model.fit_transform(X)\n",
    "\n",
    "# Getting the top words for each topic\n",
    "def get_lda_topics(model, vectorizer, n_words=5):\n",
    "    terms = vectorizer.get_feature_names_out()\n",
    "    topic_keywords = []\n",
    "    for topic_weights in model.components_:\n",
    "        top_keyword_locs = (-topic_weights).argsort()[:n_words]\n",
    "        topic_keywords.append(terms.take(top_keyword_locs))\n",
    "    return topic_keywords\n",
    "\n",
    "lda_keywords = get_lda_topics(lda_model, vectorizer)\n",
    "\n",
    "# Convert terms to a list for indexing\n",
    "terms_list = list(vectorizer.get_feature_names_out())\n",
    "\n",
    "# Plotting the topics\n",
    "for index, topic in enumerate(lda_keywords):\n",
    "    print(f\"Topic #{index + 1}: {', '.join(topic)}\")\n",
    "    plt.figure(figsize=(8, 6))\n",
    "    sns.barplot(x=topic, y=lda_model.components_[index][[terms_list.index(i) for i in topic]])\n",
    "    plt.title(f\"Topic #{index + 1}\")\n",
    "    plt.show()\n"
   ]
  },
  {
   "cell_type": "markdown",
   "id": "aabe8b00",
   "metadata": {
    "papermill": {
     "duration": 0.021545,
     "end_time": "2023-11-01T12:01:19.852250",
     "exception": false,
     "start_time": "2023-11-01T12:01:19.830705",
     "status": "completed"
    },
    "tags": []
   },
   "source": [
    "### 4. Non-Negative Matrix Factorization (NMF):\n",
    "\n",
    "NMF is a dimensionality reduction technique that factorizes non-negative data into non-negative matrices. It's useful for extracting topics from a set of texts.\n",
    "\n",
    "Implementation:"
   ]
  },
  {
   "cell_type": "code",
   "execution_count": 25,
   "id": "f681288b",
   "metadata": {
    "execution": {
     "iopub.execute_input": "2023-11-01T12:01:19.898117Z",
     "iopub.status.busy": "2023-11-01T12:01:19.897788Z",
     "iopub.status.idle": "2023-11-01T12:01:21.807958Z",
     "shell.execute_reply": "2023-11-01T12:01:21.807067Z"
    },
    "papermill": {
     "duration": 1.936041,
     "end_time": "2023-11-01T12:01:21.810027",
     "exception": false,
     "start_time": "2023-11-01T12:01:19.873986",
     "status": "completed"
    },
    "tags": []
   },
   "outputs": [
    {
     "name": "stdout",
     "output_type": "stream",
     "text": [
      "Topic #1: cvs, health, corp, rating, market\n"
     ]
    },
    {
     "data": {
      "image/png": "[encoded data removed]",
      "text/plain": [
       "<Figure size 800x600 with 1 Axes>"
      ]
     },
     "metadata": {},
     "output_type": "display_data"
    },
    {
     "name": "stdout",
     "output_type": "stream",
     "text": [
      "Topic #2: pharmacy, technician, store, retail, bio\n"
     ]
    },
    {
     "data": {
      "image/png": "[encoded data removed]",
      "text/plain": [
       "<Figure size 800x600 with 1 Axes>"
      ]
     },
     "metadata": {},
     "output_type": "display_data"
    },
    {
     "name": "stdout",
     "output_type": "stream",
     "text": [
      "Topic #3: health, cv, care, amp, cvs\n"
     ]
    },
    {
     "data": {
      "image/png": "[encoded data removed]",
      "text/plain": [
       "<Figure size 800x600 with 1 Axes>"
      ]
     },
     "metadata": {},
     "output_type": "display_data"
    },
    {
     "name": "stdout",
     "output_type": "stream",
     "text": [
      "Topic #4: cvshealth, mdbreathe, cvspharmacy, amp, covid\n"
     ]
    },
    {
     "data": {
      "image/png": "[encoded data removed]",
      "text/plain": [
       "<Figure size 800x600 with 1 Axes>"
      ]
     },
     "metadata": {},
     "output_type": "display_data"
    },
    {
     "name": "stdout",
     "output_type": "stream",
     "text": [
      "Topic #5: cvs, health, job, link, bio\n"
     ]
    },
    {
     "data": {
      "image/png": "[encoded data removed]",
      "text/plain": [
       "<Figure size 800x600 with 1 Axes>"
      ]
     },
     "metadata": {},
     "output_type": "display_data"
    }
   ],
   "source": [
    "from sklearn.decomposition import NMF\n",
    "\n",
    "# Apply NMF\n",
    "nmf_model = NMF(n_components=5, random_state=42)\n",
    "nmf_topic_matrix = nmf_model.fit_transform(X)\n",
    "\n",
    "# Getting the top words for each topic\n",
    "def get_nmf_topics(model, vectorizer, n_words=5):\n",
    "    terms = vectorizer.get_feature_names_out()\n",
    "    topic_keywords = []\n",
    "    for topic_weights in model.components_:\n",
    "        top_keyword_locs = (-topic_weights).argsort()[:n_words]\n",
    "        topic_keywords.append(terms.take(top_keyword_locs))\n",
    "    return topic_keywords\n",
    "\n",
    "nmf_keywords = get_nmf_topics(nmf_model, vectorizer)\n",
    "\n",
    "# Convert terms to a list for indexing\n",
    "terms_list = list(vectorizer.get_feature_names_out())\n",
    "\n",
    "# Plotting the topics\n",
    "for index, topic in enumerate(nmf_keywords):\n",
    "    print(f\"Topic #{index + 1}: {', '.join(topic)}\")\n",
    "    plt.figure(figsize=(8, 6))\n",
    "    sns.barplot(x=topic, y=nmf_model.components_[index][[terms_list.index(i) for i in topic]])\n",
    "    plt.title(f\"Topic #{index + 1}\")\n",
    "    plt.show()\n"
   ]
  },
  {
   "cell_type": "markdown",
   "id": "2dcf5cd8",
   "metadata": {
    "papermill": {
     "duration": 0.022972,
     "end_time": "2023-11-01T12:01:21.856600",
     "exception": false,
     "start_time": "2023-11-01T12:01:21.833628",
     "status": "completed"
    },
    "tags": []
   },
   "source": []
  },
  {
   "cell_type": "markdown",
   "id": "f42e6a54",
   "metadata": {
    "papermill": {
     "duration": 0.022698,
     "end_time": "2023-11-01T12:01:21.901925",
     "exception": false,
     "start_time": "2023-11-01T12:01:21.879227",
     "status": "completed"
    },
    "tags": []
   },
   "source": [
    "## Vector Database\n",
    "\n",
    "Although this is totally out of scope, but if time permits I would love to use vector database, if we have high dimesnion / feature handling which is not case for these tweets. But using NLP and nearest neaboug search we can achieve following benefits:\n",
    "\n",
    "* Semantic Search: To help us fetchign closes document /topic embedding\n",
    "* Anamoly detecion\n",
    "* Model training ehancements\n",
    "* Duplicate detection: similar tweets, articles or topic, then vector database can do the needful efficiently\n",
    "\n",
    "What would be my steps to create vector database for provided tweets datase:\n",
    "\n",
    "* Generate embedding: using BERT or RoBERT as above to generate embeddings for provided each tweets in dataset\n",
    "* Indexing these embedding: Here we supposed to use library e.g. FAISS to create embedding indexes.\n",
    "* Querying: To check my model decay or future sentimental analysis or risk factorization, give any new set of tweets (or any text), we will generate its embedding and query FAISS index to find similar tweets to get predicted risk"
   ]
  },
  {
   "cell_type": "code",
   "execution_count": null,
   "id": "3ecbd081",
   "metadata": {
    "papermill": {
     "duration": 0.037953,
     "end_time": "2023-11-01T12:01:21.963212",
     "exception": false,
     "start_time": "2023-11-01T12:01:21.925259",
     "status": "completed"
    },
    "tags": []
   },
   "outputs": [],
   "source": []
  }
 ],
 "metadata": {
  "kernelspec": {
   "display_name": "Python 3",
   "language": "python",
   "name": "python3"
  },
  "language_info": {
   "codemirror_mode": {
    "name": "ipython",
    "version": 3
   },
   "file_extension": ".py",
   "mimetype": "text/x-python",
   "name": "python",
   "nbconvert_exporter": "python",
   "pygments_lexer": "ipython3",
   "version": "3.10.12"
  },
  "papermill": {
   "default_parameters": {},
   "duration": 1061.132985,
   "end_time": "2023-11-01T12:01:24.902929",
   "environment_variables": {},
   "exception": null,
   "input_path": "__notebook__.ipynb",
   "output_path": "__notebook__.ipynb",
   "parameters": {},
   "start_time": "2023-11-01T11:43:43.769944",
   "version": "2.4.0"
  },
  "widgets": {
   "application/vnd.jupyter.widget-state+json": {
    "state": {
     "02a966fab775495bb27caab70586ee93": {
      "model_module": "@jupyter-widgets/controls",
      "model_module_version": "1.5.0",
      "model_name": "FloatProgressModel",
      "state": {
       "_dom_classes": [],
       "_model_module": "@jupyter-widgets/controls",
       "_model_module_version": "1.5.0",
       "_model_name": "FloatProgressModel",
       "_view_count": null,
       "_view_module": "@jupyter-widgets/controls",
       "_view_module_version": "1.5.0",
       "_view_name": "ProgressView",
       "bar_style": "success",
       "description": "",
       "description_tooltip": null,
       "layout": "IPY_MODEL_6f3454be480c440ab108683740d941cf",
       "max": 481.0,
       "min": 0.0,
       "orientation": "horizontal",
       "style": "IPY_MODEL_fad101a810b14ef8917697e79e10335b",
       "value": 481.0
      }
     },
     "0fcbf906647041bdb087b1a812876e91": {
      "model_module": "@jupyter-widgets/controls",
      "model_module_version": "1.5.0",
      "model_name": "HBoxModel",
      "state": {
       "_dom_classes": [],
       "_model_module": "@jupyter-widgets/controls",
       "_model_module_version": "1.5.0",
       "_model_name": "HBoxModel",
       "_view_count": null,
       "_view_module": "@jupyter-widgets/controls",
       "_view_module_version": "1.5.0",
       "_view_name": "HBoxView",
       "box_style": "",
       "children": [
        "IPY_MODEL_9addae3aad82462f9a9852685bce7e80",
        "IPY_MODEL_fd2df24b6c0441f589170afa3a79cf43",
        "IPY_MODEL_b23fa0ed78104ac7a3d0a313e24afe4d"
       ],
       "layout": "IPY_MODEL_8ae7169fc9ed4b3ab2aa77bce767e555"
      }
     },
     "11cc9d5a2840486fbf842a09d232c065": {
      "model_module": "@jupyter-widgets/base",
      "model_module_version": "1.2.0",
      "model_name": "LayoutModel",
      "state": {
       "_model_module": "@jupyter-widgets/base",
       "_model_module_version": "1.2.0",
       "_model_name": "LayoutModel",
       "_view_count": null,
       "_view_module": "@jupyter-widgets/base",
       "_view_module_version": "1.2.0",
       "_view_name": "LayoutView",
       "align_content": null,
       "align_items": null,
       "align_self": null,
       "border": null,
       "bottom": null,
       "display": null,
       "flex": null,
       "flex_flow": null,
       "grid_area": null,
       "grid_auto_columns": null,
       "grid_auto_flow": null,
       "grid_auto_rows": null,
       "grid_column": null,
       "grid_gap": null,
       "grid_row": null,
       "grid_template_areas": null,
       "grid_template_columns": null,
       "grid_template_rows": null,
       "height": null,
       "justify_content": null,
       "justify_items": null,
       "left": null,
       "margin": null,
       "max_height": null,
       "max_width": null,
       "min_height": null,
       "min_width": null,
       "object_fit": null,
       "object_position": null,
       "order": null,
       "overflow": null,
       "overflow_x": null,
       "overflow_y": null,
       "padding": null,
       "right": null,
       "top": null,
       "visibility": null,
       "width": null
      }
     },
     "14feb5a58ce449bf94ff636706041ef4": {
      "model_module": "@jupyter-widgets/controls",
      "model_module_version": "1.5.0",
      "model_name": "FloatProgressModel",
      "state": {
       "_dom_classes": [],
       "_model_module": "@jupyter-widgets/controls",
       "_model_module_version": "1.5.0",
       "_model_name": "FloatProgressModel",
       "_view_count": null,
       "_view_module": "@jupyter-widgets/controls",
       "_view_module_version": "1.5.0",
       "_view_name": "ProgressView",
       "bar_style": "success",
       "description": "",
       "description_tooltip": null,
       "layout": "IPY_MODEL_7cf80f16a0dd439c8a029484df4fbb61",
       "max": 498818054.0,
       "min": 0.0,
       "orientation": "horizontal",
       "style": "IPY_MODEL_de655380d35249698945748f5b3c4535",
       "value": 498818054.0
      }
     },
     "2020ed9643fa4521afb4d4e3d99bb211": {
      "model_module": "@jupyter-widgets/controls",
      "model_module_version": "1.5.0",
      "model_name": "HBoxModel",
      "state": {
       "_dom_classes": [],
       "_model_module": "@jupyter-widgets/controls",
       "_model_module_version": "1.5.0",
       "_model_name": "HBoxModel",
       "_view_count": null,
       "_view_module": "@jupyter-widgets/controls",
       "_view_module_version": "1.5.0",
       "_view_name": "HBoxView",
       "box_style": "",
       "children": [
        "IPY_MODEL_adc0ed8a3cf849caa6bdae1b9f3fcb1f",
        "IPY_MODEL_14feb5a58ce449bf94ff636706041ef4",
        "IPY_MODEL_561ce94c7d86436ab525fbedeed7c8c7"
       ],
       "layout": "IPY_MODEL_7b7fbef868e94cdc95539b510bad36b2"
      }
     },
     "22f3ef83e9124dd9b558c1408fdc8ebc": {
      "model_module": "@jupyter-widgets/controls",
      "model_module_version": "1.5.0",
      "model_name": "DescriptionStyleModel",
      "state": {
       "_model_module": "@jupyter-widgets/controls",
       "_model_module_version": "1.5.0",
       "_model_name": "DescriptionStyleModel",
       "_view_count": null,
       "_view_module": "@jupyter-widgets/base",
       "_view_module_version": "1.2.0",
       "_view_name": "StyleView",
       "description_width": ""
      }
     },
     "3348955004c64300be8b95a2d14dc30e": {
      "model_module": "@jupyter-widgets/base",
      "model_module_version": "1.2.0",
      "model_name": "LayoutModel",
      "state": {
       "_model_module": "@jupyter-widgets/base",
       "_model_module_version": "1.2.0",
       "_model_name": "LayoutModel",
       "_view_count": null,
       "_view_module": "@jupyter-widgets/base",
       "_view_module_version": "1.2.0",
       "_view_name": "LayoutView",
       "align_content": null,
       "align_items": null,
       "align_self": null,
       "border": null,
       "bottom": null,
       "display": null,
       "flex": null,
       "flex_flow": null,
       "grid_area": null,
       "grid_auto_columns": null,
       "grid_auto_flow": null,
       "grid_auto_rows": null,
       "grid_column": null,
       "grid_gap": null,
       "grid_row": null,
       "grid_template_areas": null,
       "grid_template_columns": null,
       "grid_template_rows": null,
       "height": null,
       "justify_content": null,
       "justify_items": null,
       "left": null,
       "margin": null,
       "max_height": null,
       "max_width": null,
       "min_height": null,
       "min_width": null,
       "object_fit": null,
       "object_position": null,
       "order": null,
       "overflow": null,
       "overflow_x": null,
       "overflow_y": null,
       "padding": null,
       "right": null,
       "top": null,
       "visibility": null,
       "width": null
      }
     },
     "371284233aa34cd08c3a6c8d1e207743": {
      "model_module": "@jupyter-widgets/controls",
      "model_module_version": "1.5.0",
      "model_name": "HBoxModel",
      "state": {
       "_dom_classes": [],
       "_model_module": "@jupyter-widgets/controls",
       "_model_module_version": "1.5.0",
       "_model_name": "HBoxModel",
       "_view_count": null,
       "_view_module": "@jupyter-widgets/controls",
       "_view_module_version": "1.5.0",
       "_view_name": "HBoxView",
       "box_style": "",
       "children": [
        "IPY_MODEL_f0b6ab696346453cbf5027e088ebb240",
        "IPY_MODEL_7fb20ca7bc9041f19a08aff5e6a40e5b",
        "IPY_MODEL_c2e378445eda413cac9dcddcd52aad6a"
       ],
       "layout": "IPY_MODEL_11cc9d5a2840486fbf842a09d232c065"
      }
     },
     "3c135e51092a4e4d99b237238e87d0e5": {
      "model_module": "@jupyter-widgets/base",
      "model_module_version": "1.2.0",
      "model_name": "LayoutModel",
      "state": {
       "_model_module": "@jupyter-widgets/base",
       "_model_module_version": "1.2.0",
       "_model_name": "LayoutModel",
       "_view_count": null,
       "_view_module": "@jupyter-widgets/base",
       "_view_module_version": "1.2.0",
       "_view_name": "LayoutView",
       "align_content": null,
       "align_items": null,
       "align_self": null,
       "border": null,
       "bottom": null,
       "display": null,
       "flex": null,
       "flex_flow": null,
       "grid_area": null,
       "grid_auto_columns": null,
       "grid_auto_flow": null,
       "grid_auto_rows": null,
       "grid_column": null,
       "grid_gap": null,
       "grid_row": null,
       "grid_template_areas": null,
       "grid_template_columns": null,
       "grid_template_rows": null,
       "height": null,
       "justify_content": null,
       "justify_items": null,
       "left": null,
       "margin": null,
       "max_height": null,
       "max_width": null,
       "min_height": null,
       "min_width": null,
       "object_fit": null,
       "object_position": null,
       "order": null,
       "overflow": null,
       "overflow_x": null,
       "overflow_y": null,
       "padding": null,
       "right": null,
       "top": null,
       "visibility": null,
       "width": null
      }
     },
     "436f5d49cfe54bad95e761fd6e6cabda": {
      "model_module": "@jupyter-widgets/base",
      "model_module_version": "1.2.0",
      "model_name": "LayoutModel",
      "state": {
       "_model_module": "@jupyter-widgets/base",
       "_model_module_version": "1.2.0",
       "_model_name": "LayoutModel",
       "_view_count": null,
       "_view_module": "@jupyter-widgets/base",
       "_view_module_version": "1.2.0",
       "_view_name": "LayoutView",
       "align_content": null,
       "align_items": null,
       "align_self": null,
       "border": null,
       "bottom": null,
       "display": null,
       "flex": null,
       "flex_flow": null,
       "grid_area": null,
       "grid_auto_columns": null,
       "grid_auto_flow": null,
       "grid_auto_rows": null,
       "grid_column": null,
       "grid_gap": null,
       "grid_row": null,
       "grid_template_areas": null,
       "grid_template_columns": null,
       "grid_template_rows": null,
       "height": null,
       "justify_content": null,
       "justify_items": null,
       "left": null,
       "margin": null,
       "max_height": null,
       "max_width": null,
       "min_height": null,
       "min_width": null,
       "object_fit": null,
       "object_position": null,
       "order": null,
       "overflow": null,
       "overflow_x": null,
       "overflow_y": null,
       "padding": null,
       "right": null,
       "top": null,
       "visibility": null,
       "width": null
      }
     },
     "4b5dcbd749c94aedb438cfdea6c58cff": {
      "model_module": "@jupyter-widgets/base",
      "model_module_version": "1.2.0",
      "model_name": "LayoutModel",
      "state": {
       "_model_module": "@jupyter-widgets/base",
       "_model_module_version": "1.2.0",
       "_model_name": "LayoutModel",
       "_view_count": null,
       "_view_module": "@jupyter-widgets/base",
       "_view_module_version": "1.2.0",
       "_view_name": "LayoutView",
       "align_content": null,
       "align_items": null,
       "align_self": null,
       "border": null,
       "bottom": null,
       "display": null,
       "flex": null,
       "flex_flow": null,
       "grid_area": null,
       "grid_auto_columns": null,
       "grid_auto_flow": null,
       "grid_auto_rows": null,
       "grid_column": null,
       "grid_gap": null,
       "grid_row": null,
       "grid_template_areas": null,
       "grid_template_columns": null,
       "grid_template_rows": null,
       "height": null,
       "justify_content": null,
       "justify_items": null,
       "left": null,
       "margin": null,
       "max_height": null,
       "max_width": null,
       "min_height": null,
       "min_width": null,
       "object_fit": null,
       "object_position": null,
       "order": null,
       "overflow": null,
       "overflow_x": null,
       "overflow_y": null,
       "padding": null,
       "right": null,
       "top": null,
       "visibility": null,
       "width": null
      }
     },
     "4bd2133214744d2babe3dbf999ba4efd": {
      "model_module": "@jupyter-widgets/controls",
      "model_module_version": "1.5.0",
      "model_name": "DescriptionStyleModel",
      "state": {
       "_model_module": "@jupyter-widgets/controls",
       "_model_module_version": "1.5.0",
       "_model_name": "DescriptionStyleModel",
       "_view_count": null,
       "_view_module": "@jupyter-widgets/base",
       "_view_module_version": "1.2.0",
       "_view_name": "StyleView",
       "description_width": ""
      }
     },
     "50f269eddf194fafadc0353c5ad55755": {
      "model_module": "@jupyter-widgets/controls",
      "model_module_version": "1.5.0",
      "model_name": "DescriptionStyleModel",
      "state": {
       "_model_module": "@jupyter-widgets/controls",
       "_model_module_version": "1.5.0",
       "_model_name": "DescriptionStyleModel",
       "_view_count": null,
       "_view_module": "@jupyter-widgets/base",
       "_view_module_version": "1.2.0",
       "_view_name": "StyleView",
       "description_width": ""
      }
     },
     "561ce94c7d86436ab525fbedeed7c8c7": {
      "model_module": "@jupyter-widgets/controls",
      "model_module_version": "1.5.0",
      "model_name": "HTMLModel",
      "state": {
       "_dom_classes": [],
       "_model_module": "@jupyter-widgets/controls",
       "_model_module_version": "1.5.0",
       "_model_name": "HTMLModel",
       "_view_count": null,
       "_view_module": "@jupyter-widgets/controls",
       "_view_module_version": "1.5.0",
       "_view_name": "HTMLView",
       "description": "",
       "description_tooltip": null,
       "layout": "IPY_MODEL_436f5d49cfe54bad95e761fd6e6cabda",
       "placeholder": "​",
       "style": "IPY_MODEL_ccc015da4c994e1e996b8db10817804f",
       "value": " 499M/499M [00:02&lt;00:00, 186MB/s]"
      }
     },
     "57f4c18bb00c45feaa345391432cd6a9": {
      "model_module": "@jupyter-widgets/base",
      "model_module_version": "1.2.0",
      "model_name": "LayoutModel",
      "state": {
       "_model_module": "@jupyter-widgets/base",
       "_model_module_version": "1.2.0",
       "_model_name": "LayoutModel",
       "_view_count": null,
       "_view_module": "@jupyter-widgets/base",
       "_view_module_version": "1.2.0",
       "_view_name": "LayoutView",
       "align_content": null,
       "align_items": null,
       "align_self": null,
       "border": null,
       "bottom": null,
       "display": null,
       "flex": null,
       "flex_flow": null,
       "grid_area": null,
       "grid_auto_columns": null,
       "grid_auto_flow": null,
       "grid_auto_rows": null,
       "grid_column": null,
       "grid_gap": null,
       "grid_row": null,
       "grid_template_areas": null,
       "grid_template_columns": null,
       "grid_template_rows": null,
       "height": null,
       "justify_content": null,
       "justify_items": null,
       "left": null,
       "margin": null,
       "max_height": null,
       "max_width": null,
       "min_height": null,
       "min_width": null,
       "object_fit": null,
       "object_position": null,
       "order": null,
       "overflow": null,
       "overflow_x": null,
       "overflow_y": null,
       "padding": null,
       "right": null,
       "top": null,
       "visibility": null,
       "width": null
      }
     },
     "5e5cec768132412bb3ece422f3f2b93d": {
      "model_module": "@jupyter-widgets/controls",
      "model_module_version": "1.5.0",
      "model_name": "DescriptionStyleModel",
      "state": {
       "_model_module": "@jupyter-widgets/controls",
       "_model_module_version": "1.5.0",
       "_model_name": "DescriptionStyleModel",
       "_view_count": null,
       "_view_module": "@jupyter-widgets/base",
       "_view_module_version": "1.2.0",
       "_view_name": "StyleView",
       "description_width": ""
      }
     },
     "6f3454be480c440ab108683740d941cf": {
      "model_module": "@jupyter-widgets/base",
      "model_module_version": "1.2.0",
      "model_name": "LayoutModel",
      "state": {
       "_model_module": "@jupyter-widgets/base",
       "_model_module_version": "1.2.0",
       "_model_name": "LayoutModel",
       "_view_count": null,
       "_view_module": "@jupyter-widgets/base",
       "_view_module_version": "1.2.0",
       "_view_name": "LayoutView",
       "align_content": null,
       "align_items": null,
       "align_self": null,
       "border": null,
       "bottom": null,
       "display": null,
       "flex": null,
       "flex_flow": null,
       "grid_area": null,
       "grid_auto_columns": null,
       "grid_auto_flow": null,
       "grid_auto_rows": null,
       "grid_column": null,
       "grid_gap": null,
       "grid_row": null,
       "grid_template_areas": null,
       "grid_template_columns": null,
       "grid_template_rows": null,
       "height": null,
       "justify_content": null,
       "justify_items": null,
       "left": null,
       "margin": null,
       "max_height": null,
       "max_width": null,
       "min_height": null,
       "min_width": null,
       "object_fit": null,
       "object_position": null,
       "order": null,
       "overflow": null,
       "overflow_x": null,
       "overflow_y": null,
       "padding": null,
       "right": null,
       "top": null,
       "visibility": null,
       "width": null
      }
     },
     "6f446c801b984458953a3fbb7ba5df3b": {
      "model_module": "@jupyter-widgets/base",
      "model_module_version": "1.2.0",
      "model_name": "LayoutModel",
      "state": {
       "_model_module": "@jupyter-widgets/base",
       "_model_module_version": "1.2.0",
       "_model_name": "LayoutModel",
       "_view_count": null,
       "_view_module": "@jupyter-widgets/base",
       "_view_module_version": "1.2.0",
       "_view_name": "LayoutView",
       "align_content": null,
       "align_items": null,
       "align_self": null,
       "border": null,
       "bottom": null,
       "display": null,
       "flex": null,
       "flex_flow": null,
       "grid_area": null,
       "grid_auto_columns": null,
       "grid_auto_flow": null,
       "grid_auto_rows": null,
       "grid_column": null,
       "grid_gap": null,
       "grid_row": null,
       "grid_template_areas": null,
       "grid_template_columns": null,
       "grid_template_rows": null,
       "height": null,
       "justify_content": null,
       "justify_items": null,
       "left": null,
       "margin": null,
       "max_height": null,
       "max_width": null,
       "min_height": null,
       "min_width": null,
       "object_fit": null,
       "object_position": null,
       "order": null,
       "overflow": null,
       "overflow_x": null,
       "overflow_y": null,
       "padding": null,
       "right": null,
       "top": null,
       "visibility": null,
       "width": null
      }
     },
     "74cce58b91a54fda8887f1733e7bf37d": {
      "model_module": "@jupyter-widgets/controls",
      "model_module_version": "1.5.0",
      "model_name": "DescriptionStyleModel",
      "state": {
       "_model_module": "@jupyter-widgets/controls",
       "_model_module_version": "1.5.0",
       "_model_name": "DescriptionStyleModel",
       "_view_count": null,
       "_view_module": "@jupyter-widgets/base",
       "_view_module_version": "1.2.0",
       "_view_name": "StyleView",
       "description_width": ""
      }
     },
     "7974850e5c1941909180ef3ad38ea5c3": {
      "model_module": "@jupyter-widgets/controls",
      "model_module_version": "1.5.0",
      "model_name": "ProgressStyleModel",
      "state": {
       "_model_module": "@jupyter-widgets/controls",
       "_model_module_version": "1.5.0",
       "_model_name": "ProgressStyleModel",
       "_view_count": null,
       "_view_module": "@jupyter-widgets/base",
       "_view_module_version": "1.2.0",
       "_view_name": "StyleView",
       "bar_color": null,
       "description_width": ""
      }
     },
     "7b637812b72347ccbd1f83cffa086fe9": {
      "model_module": "@jupyter-widgets/controls",
      "model_module_version": "1.5.0",
      "model_name": "ProgressStyleModel",
      "state": {
       "_model_module": "@jupyter-widgets/controls",
       "_model_module_version": "1.5.0",
       "_model_name": "ProgressStyleModel",
       "_view_count": null,
       "_view_module": "@jupyter-widgets/base",
       "_view_module_version": "1.2.0",
       "_view_name": "StyleView",
       "bar_color": null,
       "description_width": ""
      }
     },
     "7b7fbef868e94cdc95539b510bad36b2": {
      "model_module": "@jupyter-widgets/base",
      "model_module_version": "1.2.0",
      "model_name": "LayoutModel",
      "state": {
       "_model_module": "@jupyter-widgets/base",
       "_model_module_version": "1.2.0",
       "_model_name": "LayoutModel",
       "_view_count": null,
       "_view_module": "@jupyter-widgets/base",
       "_view_module_version": "1.2.0",
       "_view_name": "LayoutView",
       "align_content": null,
       "align_items": null,
       "align_self": null,
       "border": null,
       "bottom": null,
       "display": null,
       "flex": null,
       "flex_flow": null,
       "grid_area": null,
       "grid_auto_columns": null,
       "grid_auto_flow": null,
       "grid_auto_rows": null,
       "grid_column": null,
       "grid_gap": null,
       "grid_row": null,
       "grid_template_areas": null,
       "grid_template_columns": null,
       "grid_template_rows": null,
       "height": null,
       "justify_content": null,
       "justify_items": null,
       "left": null,
       "margin": null,
       "max_height": null,
       "max_width": null,
       "min_height": null,
       "min_width": null,
       "object_fit": null,
       "object_position": null,
       "order": null,
       "overflow": null,
       "overflow_x": null,
       "overflow_y": null,
       "padding": null,
       "right": null,
       "top": null,
       "visibility": null,
       "width": null
      }
     },
     "7cf80f16a0dd439c8a029484df4fbb61": {
      "model_module": "@jupyter-widgets/base",
      "model_module_version": "1.2.0",
      "model_name": "LayoutModel",
      "state": {
       "_model_module": "@jupyter-widgets/base",
       "_model_module_version": "1.2.0",
       "_model_name": "LayoutModel",
       "_view_count": null,
       "_view_module": "@jupyter-widgets/base",
       "_view_module_version": "1.2.0",
       "_view_name": "LayoutView",
       "align_content": null,
       "align_items": null,
       "align_self": null,
       "border": null,
       "bottom": null,
       "display": null,
       "flex": null,
       "flex_flow": null,
       "grid_area": null,
       "grid_auto_columns": null,
       "grid_auto_flow": null,
       "grid_auto_rows": null,
       "grid_column": null,
       "grid_gap": null,
       "grid_row": null,
       "grid_template_areas": null,
       "grid_template_columns": null,
       "grid_template_rows": null,
       "height": null,
       "justify_content": null,
       "justify_items": null,
       "left": null,
       "margin": null,
       "max_height": null,
       "max_width": null,
       "min_height": null,
       "min_width": null,
       "object_fit": null,
       "object_position": null,
       "order": null,
       "overflow": null,
       "overflow_x": null,
       "overflow_y": null,
       "padding": null,
       "right": null,
       "top": null,
       "visibility": null,
       "width": null
      }
     },
     "7fb20ca7bc9041f19a08aff5e6a40e5b": {
      "model_module": "@jupyter-widgets/controls",
      "model_module_version": "1.5.0",
      "model_name": "FloatProgressModel",
      "state": {
       "_dom_classes": [],
       "_model_module": "@jupyter-widgets/controls",
       "_model_module_version": "1.5.0",
       "_model_name": "FloatProgressModel",
       "_view_count": null,
       "_view_module": "@jupyter-widgets/controls",
       "_view_module_version": "1.5.0",
       "_view_name": "ProgressView",
       "bar_style": "success",
       "description": "",
       "description_tooltip": null,
       "layout": "IPY_MODEL_6f446c801b984458953a3fbb7ba5df3b",
       "max": 456318.0,
       "min": 0.0,
       "orientation": "horizontal",
       "style": "IPY_MODEL_7974850e5c1941909180ef3ad38ea5c3",
       "value": 456318.0
      }
     },
     "8ae7169fc9ed4b3ab2aa77bce767e555": {
      "model_module": "@jupyter-widgets/base",
      "model_module_version": "1.2.0",
      "model_name": "LayoutModel",
      "state": {
       "_model_module": "@jupyter-widgets/base",
       "_model_module_version": "1.2.0",
       "_model_name": "LayoutModel",
       "_view_count": null,
       "_view_module": "@jupyter-widgets/base",
       "_view_module_version": "1.2.0",
       "_view_name": "LayoutView",
       "align_content": null,
       "align_items": null,
       "align_self": null,
       "border": null,
       "bottom": null,
       "display": null,
       "flex": null,
       "flex_flow": null,
       "grid_area": null,
       "grid_auto_columns": null,
       "grid_auto_flow": null,
       "grid_auto_rows": null,
       "grid_column": null,
       "grid_gap": null,
       "grid_row": null,
       "grid_template_areas": null,
       "grid_template_columns": null,
       "grid_template_rows": null,
       "height": null,
       "justify_content": null,
       "justify_items": null,
       "left": null,
       "margin": null,
       "max_height": null,
       "max_width": null,
       "min_height": null,
       "min_width": null,
       "object_fit": null,
       "object_position": null,
       "order": null,
       "overflow": null,
       "overflow_x": null,
       "overflow_y": null,
       "padding": null,
       "right": null,
       "top": null,
       "visibility": null,
       "width": null
      }
     },
     "900efc6679c84b3f8a8bccdf628e3fa0": {
      "model_module": "@jupyter-widgets/controls",
      "model_module_version": "1.5.0",
      "model_name": "HBoxModel",
      "state": {
       "_dom_classes": [],
       "_model_module": "@jupyter-widgets/controls",
       "_model_module_version": "1.5.0",
       "_model_name": "HBoxModel",
       "_view_count": null,
       "_view_module": "@jupyter-widgets/controls",
       "_view_module_version": "1.5.0",
       "_view_name": "HBoxView",
       "box_style": "",
       "children": [
        "IPY_MODEL_a467487a5d5e40ef8051128962e8c7b5",
        "IPY_MODEL_02a966fab775495bb27caab70586ee93",
        "IPY_MODEL_ce54a673bc89469f9e7353ac356017e3"
       ],
       "layout": "IPY_MODEL_fb28a639553741248f3572c93e21f031"
      }
     },
     "939fe0f572364ef38b2972b14ab4c772": {
      "model_module": "@jupyter-widgets/controls",
      "model_module_version": "1.5.0",
      "model_name": "DescriptionStyleModel",
      "state": {
       "_model_module": "@jupyter-widgets/controls",
       "_model_module_version": "1.5.0",
       "_model_name": "DescriptionStyleModel",
       "_view_count": null,
       "_view_module": "@jupyter-widgets/base",
       "_view_module_version": "1.2.0",
       "_view_name": "StyleView",
       "description_width": ""
      }
     },
     "93cab6c651ef487eb1d031d20d0816e8": {
      "model_module": "@jupyter-widgets/base",
      "model_module_version": "1.2.0",
      "model_name": "LayoutModel",
      "state": {
       "_model_module": "@jupyter-widgets/base",
       "_model_module_version": "1.2.0",
       "_model_name": "LayoutModel",
       "_view_count": null,
       "_view_module": "@jupyter-widgets/base",
       "_view_module_version": "1.2.0",
       "_view_name": "LayoutView",
       "align_content": null,
       "align_items": null,
       "align_self": null,
       "border": null,
       "bottom": null,
       "display": null,
       "flex": null,
       "flex_flow": null,
       "grid_area": null,
       "grid_auto_columns": null,
       "grid_auto_flow": null,
       "grid_auto_rows": null,
       "grid_column": null,
       "grid_gap": null,
       "grid_row": null,
       "grid_template_areas": null,
       "grid_template_columns": null,
       "grid_template_rows": null,
       "height": null,
       "justify_content": null,
       "justify_items": null,
       "left": null,
       "margin": null,
       "max_height": null,
       "max_width": null,
       "min_height": null,
       "min_width": null,
       "object_fit": null,
       "object_position": null,
       "order": null,
       "overflow": null,
       "overflow_x": null,
       "overflow_y": null,
       "padding": null,
       "right": null,
       "top": null,
       "visibility": null,
       "width": null
      }
     },
     "9addae3aad82462f9a9852685bce7e80": {
      "model_module": "@jupyter-widgets/controls",
      "model_module_version": "1.5.0",
      "model_name": "HTMLModel",
      "state": {
       "_dom_classes": [],
       "_model_module": "@jupyter-widgets/controls",
       "_model_module_version": "1.5.0",
       "_model_name": "HTMLModel",
       "_view_count": null,
       "_view_module": "@jupyter-widgets/controls",
       "_view_module_version": "1.5.0",
       "_view_name": "HTMLView",
       "description": "",
       "description_tooltip": null,
       "layout": "IPY_MODEL_c551d6f7d106468382b14e9de449155b",
       "placeholder": "​",
       "style": "IPY_MODEL_939fe0f572364ef38b2972b14ab4c772",
       "value": "Downloading (…)olve/main/vocab.json: 100%"
      }
     },
     "a467487a5d5e40ef8051128962e8c7b5": {
      "model_module": "@jupyter-widgets/controls",
      "model_module_version": "1.5.0",
      "model_name": "HTMLModel",
      "state": {
       "_dom_classes": [],
       "_model_module": "@jupyter-widgets/controls",
       "_model_module_version": "1.5.0",
       "_model_name": "HTMLModel",
       "_view_count": null,
       "_view_module": "@jupyter-widgets/controls",
       "_view_module_version": "1.5.0",
       "_view_name": "HTMLView",
       "description": "",
       "description_tooltip": null,
       "layout": "IPY_MODEL_efe8603f570a4376adf7078fb5ce0ee9",
       "placeholder": "​",
       "style": "IPY_MODEL_5e5cec768132412bb3ece422f3f2b93d",
       "value": "Downloading (…)lve/main/config.json: 100%"
      }
     },
     "adc0ed8a3cf849caa6bdae1b9f3fcb1f": {
      "model_module": "@jupyter-widgets/controls",
      "model_module_version": "1.5.0",
      "model_name": "HTMLModel",
      "state": {
       "_dom_classes": [],
       "_model_module": "@jupyter-widgets/controls",
       "_model_module_version": "1.5.0",
       "_model_name": "HTMLModel",
       "_view_count": null,
       "_view_module": "@jupyter-widgets/controls",
       "_view_module_version": "1.5.0",
       "_view_name": "HTMLView",
       "description": "",
       "description_tooltip": null,
       "layout": "IPY_MODEL_3348955004c64300be8b95a2d14dc30e",
       "placeholder": "​",
       "style": "IPY_MODEL_d031fad3797b4be6a6de220ea8ca4b49",
       "value": "Downloading model.safetensors: 100%"
      }
     },
     "b23fa0ed78104ac7a3d0a313e24afe4d": {
      "model_module": "@jupyter-widgets/controls",
      "model_module_version": "1.5.0",
      "model_name": "HTMLModel",
      "state": {
       "_dom_classes": [],
       "_model_module": "@jupyter-widgets/controls",
       "_model_module_version": "1.5.0",
       "_model_name": "HTMLModel",
       "_view_count": null,
       "_view_module": "@jupyter-widgets/controls",
       "_view_module_version": "1.5.0",
       "_view_name": "HTMLView",
       "description": "",
       "description_tooltip": null,
       "layout": "IPY_MODEL_b6fca286d3dc401ba086fb96cdcd834c",
       "placeholder": "​",
       "style": "IPY_MODEL_74cce58b91a54fda8887f1733e7bf37d",
       "value": " 899k/899k [00:00&lt;00:00, 12.9MB/s]"
      }
     },
     "b6fca286d3dc401ba086fb96cdcd834c": {
      "model_module": "@jupyter-widgets/base",
      "model_module_version": "1.2.0",
      "model_name": "LayoutModel",
      "state": {
       "_model_module": "@jupyter-widgets/base",
       "_model_module_version": "1.2.0",
       "_model_name": "LayoutModel",
       "_view_count": null,
       "_view_module": "@jupyter-widgets/base",
       "_view_module_version": "1.2.0",
       "_view_name": "LayoutView",
       "align_content": null,
       "align_items": null,
       "align_self": null,
       "border": null,
       "bottom": null,
       "display": null,
       "flex": null,
       "flex_flow": null,
       "grid_area": null,
       "grid_auto_columns": null,
       "grid_auto_flow": null,
       "grid_auto_rows": null,
       "grid_column": null,
       "grid_gap": null,
       "grid_row": null,
       "grid_template_areas": null,
       "grid_template_columns": null,
       "grid_template_rows": null,
       "height": null,
       "justify_content": null,
       "justify_items": null,
       "left": null,
       "margin": null,
       "max_height": null,
       "max_width": null,
       "min_height": null,
       "min_width": null,
       "object_fit": null,
       "object_position": null,
       "order": null,
       "overflow": null,
       "overflow_x": null,
       "overflow_y": null,
       "padding": null,
       "right": null,
       "top": null,
       "visibility": null,
       "width": null
      }
     },
     "c2e378445eda413cac9dcddcd52aad6a": {
      "model_module": "@jupyter-widgets/controls",
      "model_module_version": "1.5.0",
      "model_name": "HTMLModel",
      "state": {
       "_dom_classes": [],
       "_model_module": "@jupyter-widgets/controls",
       "_model_module_version": "1.5.0",
       "_model_name": "HTMLModel",
       "_view_count": null,
       "_view_module": "@jupyter-widgets/controls",
       "_view_module_version": "1.5.0",
       "_view_name": "HTMLView",
       "description": "",
       "description_tooltip": null,
       "layout": "IPY_MODEL_4b5dcbd749c94aedb438cfdea6c58cff",
       "placeholder": "​",
       "style": "IPY_MODEL_50f269eddf194fafadc0353c5ad55755",
       "value": " 456k/456k [00:00&lt;00:00, 10.0MB/s]"
      }
     },
     "c551d6f7d106468382b14e9de449155b": {
      "model_module": "@jupyter-widgets/base",
      "model_module_version": "1.2.0",
      "model_name": "LayoutModel",
      "state": {
       "_model_module": "@jupyter-widgets/base",
       "_model_module_version": "1.2.0",
       "_model_name": "LayoutModel",
       "_view_count": null,
       "_view_module": "@jupyter-widgets/base",
       "_view_module_version": "1.2.0",
       "_view_name": "LayoutView",
       "align_content": null,
       "align_items": null,
       "align_self": null,
       "border": null,
       "bottom": null,
       "display": null,
       "flex": null,
       "flex_flow": null,
       "grid_area": null,
       "grid_auto_columns": null,
       "grid_auto_flow": null,
       "grid_auto_rows": null,
       "grid_column": null,
       "grid_gap": null,
       "grid_row": null,
       "grid_template_areas": null,
       "grid_template_columns": null,
       "grid_template_rows": null,
       "height": null,
       "justify_content": null,
       "justify_items": null,
       "left": null,
       "margin": null,
       "max_height": null,
       "max_width": null,
       "min_height": null,
       "min_width": null,
       "object_fit": null,
       "object_position": null,
       "order": null,
       "overflow": null,
       "overflow_x": null,
       "overflow_y": null,
       "padding": null,
       "right": null,
       "top": null,
       "visibility": null,
       "width": null
      }
     },
     "ccc015da4c994e1e996b8db10817804f": {
      "model_module": "@jupyter-widgets/controls",
      "model_module_version": "1.5.0",
      "model_name": "DescriptionStyleModel",
      "state": {
       "_model_module": "@jupyter-widgets/controls",
       "_model_module_version": "1.5.0",
       "_model_name": "DescriptionStyleModel",
       "_view_count": null,
       "_view_module": "@jupyter-widgets/base",
       "_view_module_version": "1.2.0",
       "_view_name": "StyleView",
       "description_width": ""
      }
     },
     "ce54a673bc89469f9e7353ac356017e3": {
      "model_module": "@jupyter-widgets/controls",
      "model_module_version": "1.5.0",
      "model_name": "HTMLModel",
      "state": {
       "_dom_classes": [],
       "_model_module": "@jupyter-widgets/controls",
       "_model_module_version": "1.5.0",
       "_model_name": "HTMLModel",
       "_view_count": null,
       "_view_module": "@jupyter-widgets/controls",
       "_view_module_version": "1.5.0",
       "_view_name": "HTMLView",
       "description": "",
       "description_tooltip": null,
       "layout": "IPY_MODEL_93cab6c651ef487eb1d031d20d0816e8",
       "placeholder": "​",
       "style": "IPY_MODEL_4bd2133214744d2babe3dbf999ba4efd",
       "value": " 481/481 [00:00&lt;00:00, 39.2kB/s]"
      }
     },
     "d031fad3797b4be6a6de220ea8ca4b49": {
      "model_module": "@jupyter-widgets/controls",
      "model_module_version": "1.5.0",
      "model_name": "DescriptionStyleModel",
      "state": {
       "_model_module": "@jupyter-widgets/controls",
       "_model_module_version": "1.5.0",
       "_model_name": "DescriptionStyleModel",
       "_view_count": null,
       "_view_module": "@jupyter-widgets/base",
       "_view_module_version": "1.2.0",
       "_view_name": "StyleView",
       "description_width": ""
      }
     },
     "de655380d35249698945748f5b3c4535": {
      "model_module": "@jupyter-widgets/controls",
      "model_module_version": "1.5.0",
      "model_name": "ProgressStyleModel",
      "state": {
       "_model_module": "@jupyter-widgets/controls",
       "_model_module_version": "1.5.0",
       "_model_name": "ProgressStyleModel",
       "_view_count": null,
       "_view_module": "@jupyter-widgets/base",
       "_view_module_version": "1.2.0",
       "_view_name": "StyleView",
       "bar_color": null,
       "description_width": ""
      }
     },
     "efe8603f570a4376adf7078fb5ce0ee9": {
      "model_module": "@jupyter-widgets/base",
      "model_module_version": "1.2.0",
      "model_name": "LayoutModel",
      "state": {
       "_model_module": "@jupyter-widgets/base",
       "_model_module_version": "1.2.0",
       "_model_name": "LayoutModel",
       "_view_count": null,
       "_view_module": "@jupyter-widgets/base",
       "_view_module_version": "1.2.0",
       "_view_name": "LayoutView",
       "align_content": null,
       "align_items": null,
       "align_self": null,
       "border": null,
       "bottom": null,
       "display": null,
       "flex": null,
       "flex_flow": null,
       "grid_area": null,
       "grid_auto_columns": null,
       "grid_auto_flow": null,
       "grid_auto_rows": null,
       "grid_column": null,
       "grid_gap": null,
       "grid_row": null,
       "grid_template_areas": null,
       "grid_template_columns": null,
       "grid_template_rows": null,
       "height": null,
       "justify_content": null,
       "justify_items": null,
       "left": null,
       "margin": null,
       "max_height": null,
       "max_width": null,
       "min_height": null,
       "min_width": null,
       "object_fit": null,
       "object_position": null,
       "order": null,
       "overflow": null,
       "overflow_x": null,
       "overflow_y": null,
       "padding": null,
       "right": null,
       "top": null,
       "visibility": null,
       "width": null
      }
     },
     "f0b6ab696346453cbf5027e088ebb240": {
      "model_module": "@jupyter-widgets/controls",
      "model_module_version": "1.5.0",
      "model_name": "HTMLModel",
      "state": {
       "_dom_classes": [],
       "_model_module": "@jupyter-widgets/controls",
       "_model_module_version": "1.5.0",
       "_model_name": "HTMLModel",
       "_view_count": null,
       "_view_module": "@jupyter-widgets/controls",
       "_view_module_version": "1.5.0",
       "_view_name": "HTMLView",
       "description": "",
       "description_tooltip": null,
       "layout": "IPY_MODEL_3c135e51092a4e4d99b237238e87d0e5",
       "placeholder": "​",
       "style": "IPY_MODEL_22f3ef83e9124dd9b558c1408fdc8ebc",
       "value": "Downloading (…)olve/main/merges.txt: 100%"
      }
     },
     "fad101a810b14ef8917697e79e10335b": {
      "model_module": "@jupyter-widgets/controls",
      "model_module_version": "1.5.0",
      "model_name": "ProgressStyleModel",
      "state": {
       "_model_module": "@jupyter-widgets/controls",
       "_model_module_version": "1.5.0",
       "_model_name": "ProgressStyleModel",
       "_view_count": null,
       "_view_module": "@jupyter-widgets/base",
       "_view_module_version": "1.2.0",
       "_view_name": "StyleView",
       "bar_color": null,
       "description_width": ""
      }
     },
     "fb28a639553741248f3572c93e21f031": {
      "model_module": "@jupyter-widgets/base",
      "model_module_version": "1.2.0",
      "model_name": "LayoutModel",
      "state": {
       "_model_module": "@jupyter-widgets/base",
       "_model_module_version": "1.2.0",
       "_model_name": "LayoutModel",
       "_view_count": null,
       "_view_module": "@jupyter-widgets/base",
       "_view_module_version": "1.2.0",
       "_view_name": "LayoutView",
       "align_content": null,
       "align_items": null,
       "align_self": null,
       "border": null,
       "bottom": null,
       "display": null,
       "flex": null,
       "flex_flow": null,
       "grid_area": null,
       "grid_auto_columns": null,
       "grid_auto_flow": null,
       "grid_auto_rows": null,
       "grid_column": null,
       "grid_gap": null,
       "grid_row": null,
       "grid_template_areas": null,
       "grid_template_columns": null,
       "grid_template_rows": null,
       "height": null,
       "justify_content": null,
       "justify_items": null,
       "left": null,
       "margin": null,
       "max_height": null,
       "max_width": null,
       "min_height": null,
       "min_width": null,
       "object_fit": null,
       "object_position": null,
       "order": null,
       "overflow": null,
       "overflow_x": null,
       "overflow_y": null,
       "padding": null,
       "right": null,
       "top": null,
       "visibility": null,
       "width": null
      }
     },
     "fd2df24b6c0441f589170afa3a79cf43": {
      "model_module": "@jupyter-widgets/controls",
      "model_module_version": "1.5.0",
      "model_name": "FloatProgressModel",
      "state": {
       "_dom_classes": [],
       "_model_module": "@jupyter-widgets/controls",
       "_model_module_version": "1.5.0",
       "_model_name": "FloatProgressModel",
       "_view_count": null,
       "_view_module": "@jupyter-widgets/controls",
       "_view_module_version": "1.5.0",
       "_view_name": "ProgressView",
       "bar_style": "success",
       "description": "",
       "description_tooltip": null,
       "layout": "IPY_MODEL_57f4c18bb00c45feaa345391432cd6a9",
       "max": 898823.0,
       "min": 0.0,
       "orientation": "horizontal",
       "style": "IPY_MODEL_7b637812b72347ccbd1f83cffa086fe9",
       "value": 898823.0
      }
     }
    },
    "version_major": 2,
    "version_minor": 0
   }
  }
 },
 "nbformat": 4,
 "nbformat_minor": 5
}
